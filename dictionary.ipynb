{
 "cells": [
  {
   "cell_type": "code",
   "execution_count": 7,
   "metadata": {},
   "outputs": [
    {
     "data": {
      "text/plain": [
       "dict"
      ]
     },
     "execution_count": 7,
     "metadata": {},
     "output_type": "execute_result"
    }
   ],
   "source": [
    "a_dict = dict()\n",
    "type(a_dict)"
   ]
  },
  {
   "cell_type": "code",
   "execution_count": 8,
   "metadata": {},
   "outputs": [
    {
     "data": {
      "text/plain": [
       "dict"
      ]
     },
     "execution_count": 8,
     "metadata": {},
     "output_type": "execute_result"
    }
   ],
   "source": [
    "a_dict = {}\n",
    "type(a_dict)"
   ]
  },
  {
   "cell_type": "code",
   "execution_count": 9,
   "metadata": {},
   "outputs": [],
   "source": [
    "a_dict = {'a':1 , 'b':2 , 'c':3}"
   ]
  },
  {
   "cell_type": "code",
   "execution_count": 10,
   "metadata": {},
   "outputs": [
    {
     "data": {
      "text/plain": [
       "1"
      ]
     },
     "execution_count": 10,
     "metadata": {},
     "output_type": "execute_result"
    }
   ],
   "source": [
    "a_dict['a']"
   ]
  },
  {
   "cell_type": "code",
   "execution_count": 12,
   "metadata": {},
   "outputs": [
    {
     "data": {
      "text/plain": [
       "2"
      ]
     },
     "execution_count": 12,
     "metadata": {},
     "output_type": "execute_result"
    }
   ],
   "source": [
    "a_dict.get('b')"
   ]
  },
  {
   "cell_type": "markdown",
   "metadata": {},
   "source": [
    "### Example"
   ]
  },
  {
   "cell_type": "code",
   "execution_count": 22,
   "metadata": {},
   "outputs": [
    {
     "data": {
      "text/plain": [
       "{'A': 'Naushad', 'B': 'Komal', 'C': 'Ravi'}"
      ]
     },
     "execution_count": 22,
     "metadata": {},
     "output_type": "execute_result"
    }
   ],
   "source": [
    "a_dict = {'A':'Naushad', 'B':'Komal', 'C':'Ravi'}\n",
    "a_dict"
   ]
  },
  {
   "cell_type": "code",
   "execution_count": 23,
   "metadata": {},
   "outputs": [],
   "source": [
    "a_dict['B'] = 'Shweta'"
   ]
  },
  {
   "cell_type": "code",
   "execution_count": 24,
   "metadata": {},
   "outputs": [
    {
     "data": {
      "text/plain": [
       "{'A': 'Naushad', 'B': 'Shweta', 'C': 'Ravi'}"
      ]
     },
     "execution_count": 24,
     "metadata": {},
     "output_type": "execute_result"
    }
   ],
   "source": [
    "a_dict"
   ]
  },
  {
   "cell_type": "code",
   "execution_count": 25,
   "metadata": {},
   "outputs": [
    {
     "data": {
      "text/plain": [
       "{'A': 'Naushad', 'B': 'Shweta', 'C': 'Ravi', 'c': 'Ujjwal'}"
      ]
     },
     "execution_count": 25,
     "metadata": {},
     "output_type": "execute_result"
    }
   ],
   "source": [
    "a_dict['c'] = 'Ujjwal'\n",
    "a_dict"
   ]
  },
  {
   "cell_type": "code",
   "execution_count": 26,
   "metadata": {},
   "outputs": [
    {
     "data": {
      "text/plain": [
       "{'A': 'Naushad', 'B': 'Shweta', 'C': 'Ravi', 'c': [1, 2, 3, 4]}"
      ]
     },
     "execution_count": 26,
     "metadata": {},
     "output_type": "execute_result"
    }
   ],
   "source": [
    "a_dict['c'] = [1,2,3,4]\n",
    "a_dict"
   ]
  },
  {
   "cell_type": "code",
   "execution_count": 34,
   "metadata": {},
   "outputs": [
    {
     "data": {
      "text/plain": [
       "{'Naushad': ['70,75,80,85,90'],\n",
       " 'Komal': ['80,85,90,95,70'],\n",
       " 'Ravi': ['80,85,90,95,70'],\n",
       " 'Shweta': ['80,85,90,95,70'],\n",
       " 'Ujjwal': ['80,85,90,95,70']}"
      ]
     },
     "execution_count": 34,
     "metadata": {},
     "output_type": "execute_result"
    }
   ],
   "source": [
    "student = {'Naushad':['70,75,80,85,90'] , 'Komal':['80,85,90,95,70'] , 'Ravi':['80,85,90,95,70'] , \n",
    "'Shweta':['80,85,90,95,70'] , 'Ujjwal':['80,85,90,95,70']}\n",
    "student"
   ]
  },
  {
   "cell_type": "code",
   "execution_count": 13,
   "metadata": {},
   "outputs": [],
   "source": [
    "report = {\n",
    "    'Naushad':{\n",
    "        'English' : 67,\n",
    "        'Hindi' : 77,\n",
    "        'Maths' : 87,\n",
    "        'Science' : 98,\n",
    "        'Arts' : 76,\n",
    "    },\n",
    "    'Komal':{\n",
    "        'English' : 67,\n",
    "        'Hindi' : 77,\n",
    "        'Maths' : 87,\n",
    "        'Science' : 98,\n",
    "        'Arts' : 76,\n",
    "    },\n",
    "    'Ravi':{\n",
    "        'English' : 67,\n",
    "        'Hindi' : 77,\n",
    "        'Maths' : 87,\n",
    "        'Science' : 98,\n",
    "        'Arts' : 76,\n",
    "    },\n",
    "    'Shweta':{\n",
    "        'English' : 67,\n",
    "        'Hindi' : 77,\n",
    "        'Maths' : 87,\n",
    "        'Science' : 98,\n",
    "        'Arts' : 76,\n",
    "    },\n",
    "    'Ujjwal':{\n",
    "        'English' : 67,\n",
    "        'Hindi' : 77,\n",
    "        'Maths' : 87,\n",
    "        'Science' : 98,\n",
    "        'Arts' : 76,\n",
    "    },\n",
    "}"
   ]
  },
  {
   "cell_type": "code",
   "execution_count": 14,
   "metadata": {},
   "outputs": [
    {
     "name": "stdout",
     "output_type": "stream",
     "text": [
      "{'Naushad': {'English': 67, 'Hindi': 77, 'Maths': 87, 'Science': 98, 'Arts': 76}, 'Komal': {'English': 67, 'Hindi': 77, 'Maths': 87, 'Science': 98, 'Arts': 76}, 'Ravi': {'English': 67, 'Hindi': 77, 'Maths': 87, 'Science': 98, 'Arts': 76}, 'Shweta': {'English': 67, 'Hindi': 77, 'Maths': 87, 'Science': 98, 'Arts': 76}, 'Ujjwal': {'English': 67, 'Hindi': 77, 'Maths': 87, 'Science': 98, 'Arts': 76}}\n"
     ]
    }
   ],
   "source": [
    "print(report)"
   ]
  },
  {
   "cell_type": "code",
   "execution_count": 16,
   "metadata": {},
   "outputs": [
    {
     "data": {
      "text/plain": [
       "77"
      ]
     },
     "execution_count": 16,
     "metadata": {},
     "output_type": "execute_result"
    }
   ],
   "source": [
    "report['Komal']['Hindi']"
   ]
  },
  {
   "cell_type": "code",
   "execution_count": null,
   "metadata": {},
   "outputs": [],
   "source": []
  }
 ],
 "metadata": {
  "interpreter": {
   "hash": "8eeacb674f5bbd40a760011ec84bc373e17163a2472ef87b5d27755525a49110"
  },
  "kernelspec": {
   "display_name": "Python 3.9.5 ('base')",
   "language": "python",
   "name": "python3"
  },
  "language_info": {
   "codemirror_mode": {
    "name": "ipython",
    "version": 3
   },
   "file_extension": ".py",
   "mimetype": "text/x-python",
   "name": "python",
   "nbconvert_exporter": "python",
   "pygments_lexer": "ipython3",
   "version": "3.9.5"
  },
  "orig_nbformat": 4
 },
 "nbformat": 4,
 "nbformat_minor": 2
}
