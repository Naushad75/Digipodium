{
 "cells": [
  {
   "cell_type": "markdown",
   "metadata": {},
   "source": [
    "## What to learn\n",
    "- Comprehension\n",
    "- Lambda, map and filter"
   ]
  },
  {
   "cell_type": "markdown",
   "metadata": {},
   "source": [
    "If you are doing a program where you need to get a **list(sequence) of data from and Existing data by performing some operation on existion data, then you can use the concept of comprehension or map/ filter to make your code smaller and faster"
   ]
  },
  {
   "cell_type": "code",
   "execution_count": 5,
   "metadata": {},
   "outputs": [
    {
     "name": "stdout",
     "output_type": "stream",
     "text": [
      "[6, 7, 8, 9, 10, 11, 12]\n"
     ]
    }
   ],
   "source": [
    "x = [1,2,3,4,5,6,7]\n",
    "x5 = [] # list empty\n",
    "for i in x:\n",
    "    o = i + 5 \n",
    "    x5.append(o)\n",
    "print(x5)\n"
   ]
  },
  {
   "cell_type": "markdown",
   "metadata": {},
   "source": [
    "## comprehension syntex\n",
    "- simple\n",
    "```\n",
    "newlist = [operation loop]\n",
    "```\n",
    "\n",
    "- cindition based\n",
    "```\n",
    "newlist = [operation loop condition]\n",
    "```"
   ]
  },
  {
   "cell_type": "code",
   "execution_count": 7,
   "metadata": {},
   "outputs": [
    {
     "name": "stdout",
     "output_type": "stream",
     "text": [
      "[6, 7, 8, 9, 10, 11, 12]\n"
     ]
    }
   ],
   "source": [
    "x5 = [i + 5 for i in x]\n",
    "print(x5)"
   ]
  },
  {
   "cell_type": "code",
   "execution_count": 9,
   "metadata": {},
   "outputs": [
    {
     "name": "stdout",
     "output_type": "stream",
     "text": [
      "[1, 4, 9, 16, 25, 36, 49]\n"
     ]
    }
   ],
   "source": [
    "xsqr = [i **2 for i in x]\n",
    "print(xsqr)"
   ]
  },
  {
   "cell_type": "markdown",
   "metadata": {},
   "source": [
    "### Normal version"
   ]
  },
  {
   "cell_type": "code",
   "execution_count": 15,
   "metadata": {},
   "outputs": [
    {
     "name": "stdout",
     "output_type": "stream",
     "text": [
      "[4, 16, 36, 64, 100]\n"
     ]
    }
   ],
   "source": [
    "\n",
    "x = [1,2,3,4,5,6,7,8,9,10]\n",
    "xevensqr = []\n",
    "for i in x:\n",
    "    if i % 2 == 0:\n",
    "        xevensqr.append(i**2)\n",
    "print(xevensqr)"
   ]
  },
  {
   "cell_type": "markdown",
   "metadata": {},
   "source": [
    "### Pythonic version"
   ]
  },
  {
   "cell_type": "code",
   "execution_count": 21,
   "metadata": {},
   "outputs": [
    {
     "name": "stdout",
     "output_type": "stream",
     "text": [
      "[8, 64, 216, 512, 1000]\n"
     ]
    }
   ],
   "source": [
    "xevensqr = [i**3 for i in x if i%2 == 0]\n",
    "print(xevensqr)"
   ]
  },
  {
   "cell_type": "code",
   "execution_count": 26,
   "metadata": {},
   "outputs": [
    {
     "name": "stdout",
     "output_type": "stream",
     "text": [
      "[-9, -7, -5, -3, -1]\n"
     ]
    }
   ],
   "source": [
    "xodds = [i - 10 for i in x if i%2 != 0]\n",
    "print(xodds)"
   ]
  },
  {
   "cell_type": "code",
   "execution_count": 29,
   "metadata": {},
   "outputs": [
    {
     "name": "stdout",
     "output_type": "stream",
     "text": [
      "['Mason', 'Frey', 'Lawson', 'Maxmillon']\n"
     ]
    }
   ],
   "source": [
    "# simple\n",
    "names = ['Alex Mason','Adam Frey','Dana Lawson','Wax Maxmillon']\n",
    "surnames = []\n",
    "for n in names:\n",
    "    sn = n.split()[-1]  # get the last word\n",
    "    surnames.append(sn)\n",
    "print(surnames)\n"
   ]
  },
  {
   "cell_type": "code",
   "execution_count": 35,
   "metadata": {},
   "outputs": [
    {
     "name": "stdout",
     "output_type": "stream",
     "text": [
      "['Mason', 'Frey', 'Lawson', 'Maxmillon']\n"
     ]
    }
   ],
   "source": [
    "# comparension\n",
    "surnames = []\n",
    "surnames =  [n.split()[-1] for n in names ]\n",
    "print(surnames)"
   ]
  },
  {
   "cell_type": "markdown",
   "metadata": {},
   "source": [
    "### TASK \n",
    "### Write a comprenhension program that will return all the employees with 'a' in their names from an existion list of 25 employes"
   ]
  },
  {
   "cell_type": "code",
   "execution_count": 11,
   "metadata": {},
   "outputs": [
    {
     "name": "stdout",
     "output_type": "stream",
     "text": [
      "['nausahd', 'komal', 'ravi', 'shweta', 'manoj', 'ujjwal', 'yashi', 'harshit', 'ali', 'saif', 'abishaq']\n"
     ]
    }
   ],
   "source": [
    "emp = ['nausahd','komal','ravi','shweta','nikhil','manoj','dhruv','ujjwal','yashi','harshit','ali','shebli','saif','abishaq',]\n",
    "newemp = []\n",
    "for i in emp:\n",
    "    count = 0\n",
    "    for k in i:\n",
    "        if k == 'a':\n",
    "            count +=1\n",
    "    if count>0:\n",
    "        newemp.append(i)\n",
    "print(newemp)"
   ]
  },
  {
   "cell_type": "code",
   "execution_count": 12,
   "metadata": {},
   "outputs": [
    {
     "name": "stdout",
     "output_type": "stream",
     "text": [
      "['nausahd', 'komal', 'ravi', 'shweta', 'manoj', 'ujjwal', 'yashi', 'harshit', 'ali', 'saif', 'abishaq']\n"
     ]
    }
   ],
   "source": [
    "newemp = []\n",
    "newemp = [ i for i in emp if 'a' in i ]\n",
    "print(newemp)"
   ]
  },
  {
   "cell_type": "code",
   "execution_count": null,
   "metadata": {},
   "outputs": [],
   "source": []
  }
 ],
 "metadata": {
  "interpreter": {
   "hash": "8eeacb674f5bbd40a760011ec84bc373e17163a2472ef87b5d27755525a49110"
  },
  "kernelspec": {
   "display_name": "Python 3.9.5 ('base')",
   "language": "python",
   "name": "python3"
  },
  "language_info": {
   "codemirror_mode": {
    "name": "ipython",
    "version": 3
   },
   "file_extension": ".py",
   "mimetype": "text/x-python",
   "name": "python",
   "nbconvert_exporter": "python",
   "pygments_lexer": "ipython3",
   "version": "3.9.5"
  },
  "orig_nbformat": 4
 },
 "nbformat": 4,
 "nbformat_minor": 2
}
