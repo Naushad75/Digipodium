{
 "cells": [
  {
   "cell_type": "markdown",
   "metadata": {},
   "source": [
    "# List \n",
    "- List is mutable (item add, remove)\n",
    "- list is heterogrnous (mixed data can be stored)\n",
    "- list can be have duplicate values\n",
    "- list is indexed (item have indexes and can be slice)\n",
    "- list uses '[]' brackets with values inside it seperated with commas\n",
    "\n",
    "## What to learn\n",
    "- ### creating a list\n",
    "- ### indexing n slicing\n",
    "- ### traversal (looping)\n",
    "- ### function (11)\n",
    "- ### comprehension\n",
    "- ### lambda, map and filter"
   ]
  },
  {
   "cell_type": "markdown",
   "metadata": {},
   "source": [
    "- List Function\n",
    "    - append()  ->\tAdds an element at the end of the list\n",
    "    - clear()   -> \tRemoves all the elements from the list\n",
    "    - copy()    -> \tReturns a copy of the list\n",
    "    - count()   -> \tReturns the number of elements with the specified value\n",
    "    - extend()  -> \tAdd the elements of a list (or any iterable), to the end of the current list\n",
    "    - index()   -> \tReturns the index of the first element with the specified value\n",
    "    - insert()  -> \tAdds an element at the specified position\n",
    "    - pop()     -> \tRemoves the element at the specified position\n",
    "    - remove()  -> \tRemoves the item with the specified value\n",
    "    - reverse() ->\tReverses the order of the list\n",
    "    - sort()    -> \tSorts the list"
   ]
  },
  {
   "cell_type": "code",
   "execution_count": 10,
   "metadata": {},
   "outputs": [],
   "source": [
    "# List of strings\n",
    "names = [\"kaladin\", \"Adolin\", 'Dalinar', 'Wit', 'Shallan', 'Navani']\n",
    "# List of numbers\n",
    "factors = [1, 2, 3, 5, 15, 25, 100]\n",
    "# mixed data list\n",
    "info = ['Ravi', 90,102,93,29,44,\"B\",False,5.786]\n",
    "# nested List\n",
    "c2d = [[1,2,3],[3,4,5,7],[2,1]]\n",
    "# list from function\n",
    "fact = \"icecubes sits in its own blood\"\n",
    "words = fact.split()"
   ]
  },
  {
   "cell_type": "code",
   "execution_count": 11,
   "metadata": {},
   "outputs": [
    {
     "name": "stdout",
     "output_type": "stream",
     "text": [
      "[1, 1, 1, 1, 1, 1, 1, 1, 1, 1]\n"
     ]
    }
   ],
   "source": [
    "# quick list hack with same values\n",
    "x = [1] * 10\n",
    "print(x)"
   ]
  },
  {
   "cell_type": "code",
   "execution_count": 12,
   "metadata": {},
   "outputs": [
    {
     "name": "stdout",
     "output_type": "stream",
     "text": [
      "[10, 'something', 9]\n"
     ]
    }
   ],
   "source": [
    "# List from variable\n",
    "a = 10 \n",
    "b = 'something'\n",
    "c = 9\n",
    "l = [a, b, c]\n",
    "print(l)"
   ]
  },
  {
   "cell_type": "code",
   "execution_count": 13,
   "metadata": {},
   "outputs": [],
   "source": [
    "kharche = []  # empty list"
   ]
  },
  {
   "cell_type": "code",
   "execution_count": 14,
   "metadata": {},
   "outputs": [
    {
     "name": "stdout",
     "output_type": "stream",
     "text": [
      "[100]\n",
      "[100, 200]\n",
      "[100, 200, 300]\n"
     ]
    }
   ],
   "source": [
    "kharche.append(100)\n",
    "print(kharche)\n",
    "kharche.append(200)\n",
    "print(kharche)\n",
    "kharche.append(300)\n",
    "print(kharche)"
   ]
  },
  {
   "cell_type": "code",
   "execution_count": 1,
   "metadata": {},
   "outputs": [
    {
     "name": "stdout",
     "output_type": "stream",
     "text": [
      "['fddf', 'df', '']\n"
     ]
    }
   ],
   "source": [
    "fav_foods = []\n",
    "for i in range(3):\n",
    "    food = input(\"enter name of your fav food =>\")\n",
    "    fav_foods.append(food)\n",
    "print(fav_foods)"
   ]
  },
  {
   "cell_type": "code",
   "execution_count": 5,
   "metadata": {},
   "outputs": [
    {
     "name": "stdout",
     "output_type": "stream",
     "text": [
      "[1, 2, 3, 4, 5, 6, 7, 8, 9, 10, 11, 12, 13, 14, 15, 16, 17, 18, 19, 20, 21, 22, 23, 24, 25, 26, 27, 28, 29, 30, 31, 32, 33, 34, 35, 36, 37, 38, 39, 40, 41, 42, 43, 44, 45, 46, 47, 48, 49, 50, 51, 52, 53, 54, 55, 56, 57, 58, 59, 60, 61, 62, 63, 64, 65, 66, 67, 68, 69, 70, 71, 72, 73, 74, 75, 76, 77, 78, 79, 80, 81, 82, 83, 84, 85, 86, 87, 88, 89, 90, 91, 92, 93, 94, 95, 96, 97, 98, 99, 100]\n"
     ]
    }
   ],
   "source": [
    "nums = []\n",
    "for i in range(1,101):\n",
    "    nums.append(i)\n",
    "print(nums)"
   ]
  },
  {
   "cell_type": "code",
   "execution_count": 16,
   "metadata": {},
   "outputs": [
    {
     "data": {
      "text/plain": [
       "'Dalinar'"
      ]
     },
     "execution_count": 16,
     "metadata": {},
     "output_type": "execute_result"
    }
   ],
   "source": [
    "names[2]"
   ]
  },
  {
   "cell_type": "code",
   "execution_count": 17,
   "metadata": {},
   "outputs": [
    {
     "data": {
      "text/plain": [
       "'Shallan'"
      ]
     },
     "execution_count": 17,
     "metadata": {},
     "output_type": "execute_result"
    }
   ],
   "source": [
    "names[-2]"
   ]
  },
  {
   "cell_type": "markdown",
   "metadata": {},
   "source": [
    "## Function\n",
    "- adding items\n",
    "    - append\n",
    "    - insert\n",
    "    - extend\n",
    "- dalete items\n",
    "    - remove\n",
    "    - pop\n",
    "    - clear\n",
    "- utility func\n",
    "    - reverse \n",
    "    - sort\n",
    "    - count\n",
    "    - index\n",
    "    - copy"
   ]
  },
  {
   "cell_type": "code",
   "execution_count": 1,
   "metadata": {},
   "outputs": [
    {
     "data": {
      "text/plain": [
       "['apple', 'banana', 'cherry', 'guava']"
      ]
     },
     "execution_count": 1,
     "metadata": {},
     "output_type": "execute_result"
    }
   ],
   "source": [
    "fruit = []\n",
    "fruit.append(\"apple\")\n",
    "fruit.append(\"banana\")\n",
    "fruit.append(\"cherry\")\n",
    "fruit.append('guava')\n",
    "fruit"
   ]
  },
  {
   "cell_type": "code",
   "execution_count": 2,
   "metadata": {},
   "outputs": [
    {
     "data": {
      "text/plain": [
       "['apple', 'banana', 'cherry', 'fig', 'guava']"
      ]
     },
     "execution_count": 2,
     "metadata": {},
     "output_type": "execute_result"
    }
   ],
   "source": [
    "fruit.insert(-1, \"fig\")\n",
    "fruit"
   ]
  },
  {
   "cell_type": "code",
   "execution_count": 3,
   "metadata": {},
   "outputs": [
    {
     "data": {
      "text/plain": [
       "['apple', 'banana', 'cherry', 'dragenfruit', 'fig', 'guava']"
      ]
     },
     "execution_count": 3,
     "metadata": {},
     "output_type": "execute_result"
    }
   ],
   "source": [
    "fruit.insert(-2, 'dragenfruit')\n",
    "fruit"
   ]
  },
  {
   "cell_type": "code",
   "execution_count": 4,
   "metadata": {},
   "outputs": [
    {
     "data": {
      "text/plain": [
       "['apple', 'avocado', 'banana', 'cherry', 'dragenfruit', 'fig', 'guava']"
      ]
     },
     "execution_count": 4,
     "metadata": {},
     "output_type": "execute_result"
    }
   ],
   "source": [
    "fruit.insert(1,'avocado')\n",
    "fruit"
   ]
  },
  {
   "cell_type": "code",
   "execution_count": 5,
   "metadata": {},
   "outputs": [
    {
     "data": {
      "text/plain": [
       "['apple',\n",
       " 'avocado',\n",
       " 'banana',\n",
       " 'cherry',\n",
       " 'dragenfruit',\n",
       " 'fig',\n",
       " 'guava',\n",
       " 'rotten apple']"
      ]
     },
     "execution_count": 5,
     "metadata": {},
     "output_type": "execute_result"
    }
   ],
   "source": [
    "fruit.insert(100, 'rotten apple')\n",
    "fruit"
   ]
  },
  {
   "cell_type": "code",
   "execution_count": 6,
   "metadata": {},
   "outputs": [
    {
     "data": {
      "text/plain": [
       "['Almonds', 'cashew', 'walnut']"
      ]
     },
     "execution_count": 6,
     "metadata": {},
     "output_type": "execute_result"
    }
   ],
   "source": [
    "dry_fruit = ['Almonds', 'cashew', 'walnut']\n",
    "dry_fruit"
   ]
  },
  {
   "cell_type": "code",
   "execution_count": 7,
   "metadata": {},
   "outputs": [
    {
     "data": {
      "text/plain": [
       "['apple',\n",
       " 'avocado',\n",
       " 'banana',\n",
       " 'cherry',\n",
       " 'dragenfruit',\n",
       " 'fig',\n",
       " 'guava',\n",
       " 'rotten apple',\n",
       " 'Almonds',\n",
       " 'cashew',\n",
       " 'walnut']"
      ]
     },
     "execution_count": 7,
     "metadata": {},
     "output_type": "execute_result"
    }
   ],
   "source": [
    "fruit.extend(dry_fruit)\n",
    "fruit"
   ]
  },
  {
   "cell_type": "code",
   "execution_count": 10,
   "metadata": {},
   "outputs": [
    {
     "data": {
      "text/plain": [
       "11"
      ]
     },
     "execution_count": 10,
     "metadata": {},
     "output_type": "execute_result"
    }
   ],
   "source": [
    "len(fruit)"
   ]
  },
  {
   "cell_type": "code",
   "execution_count": 14,
   "metadata": {},
   "outputs": [
    {
     "name": "stdout",
     "output_type": "stream",
     "text": [
      "no rotten apple found\n"
     ]
    }
   ],
   "source": [
    "if 'rotten apple' in fruit:\n",
    "    fruit.remove('rotten apple')\n",
    "    print(fruit)\n",
    "else:\n",
    "    print('no rotten apple found')"
   ]
  },
  {
   "cell_type": "code",
   "execution_count": 13,
   "metadata": {},
   "outputs": [],
   "source": [
    "if 'papaya' in fruit:\n",
    "    fruit.remove(\"papaya\")"
   ]
  },
  {
   "cell_type": "code",
   "execution_count": 15,
   "metadata": {},
   "outputs": [
    {
     "data": {
      "text/plain": [
       "[1, 2, 3, [1, 2, 3, 4]]"
      ]
     },
     "execution_count": 15,
     "metadata": {},
     "output_type": "execute_result"
    }
   ],
   "source": [
    "x = [1,2,3,[1,2,3,4]]\n",
    "x"
   ]
  },
  {
   "cell_type": "code",
   "execution_count": 17,
   "metadata": {},
   "outputs": [
    {
     "data": {
      "text/plain": [
       "[1, 2, 3, [1, 3, 4]]"
      ]
     },
     "execution_count": 17,
     "metadata": {},
     "output_type": "execute_result"
    }
   ],
   "source": [
    "if 2 in x[3]:\n",
    "    x[3].remove(2)\n",
    "x"
   ]
  },
  {
   "cell_type": "code",
   "execution_count": 18,
   "metadata": {},
   "outputs": [
    {
     "data": {
      "text/plain": [
       "['apple',\n",
       " 'avocado',\n",
       " 'banana',\n",
       " 'cherry',\n",
       " 'dragenfruit',\n",
       " 'fig',\n",
       " 'guava',\n",
       " 'Almonds',\n",
       " 'cashew',\n",
       " 'walnut']"
      ]
     },
     "execution_count": 18,
     "metadata": {},
     "output_type": "execute_result"
    }
   ],
   "source": [
    "fruit"
   ]
  },
  {
   "cell_type": "markdown",
   "metadata": {},
   "source": [
    "### pop can be used in 2 way\n",
    "- list.pop()    => remove the last value in the list and given us that value\n",
    "- list.pop(idx) => remove the value idx if idx is valid and gives the value"
   ]
  },
  {
   "cell_type": "code",
   "execution_count": 19,
   "metadata": {},
   "outputs": [
    {
     "name": "stdout",
     "output_type": "stream",
     "text": [
      "removed_value => walnut\n",
      "list => ['apple', 'avocado', 'banana', 'cherry', 'dragenfruit', 'fig', 'guava', 'Almonds', 'cashew']\n"
     ]
    }
   ],
   "source": [
    "v = fruit.pop()\n",
    "print('removed_value =>', v)\n",
    "print('list =>', fruit)\n"
   ]
  },
  {
   "cell_type": "code",
   "execution_count": 24,
   "metadata": {},
   "outputs": [
    {
     "name": "stdout",
     "output_type": "stream",
     "text": [
      "remove_value=> Almonds\n",
      "list=> ['apple', 'avocado', 'banana', 'cashew']\n"
     ]
    }
   ],
   "source": [
    "v = fruit.pop(3)  # removing from index 3\n",
    "print('remove_value=>', v)\n",
    "print('list=>', fruit)"
   ]
  },
  {
   "cell_type": "code",
   "execution_count": 25,
   "metadata": {},
   "outputs": [
    {
     "data": {
      "text/plain": [
       "[]"
      ]
     },
     "execution_count": 25,
     "metadata": {},
     "output_type": "execute_result"
    }
   ],
   "source": [
    "v = fruit.clear()\n",
    "fruit"
   ]
  },
  {
   "cell_type": "code",
   "execution_count": 29,
   "metadata": {},
   "outputs": [],
   "source": [
    "movies = [\n",
    "    'Fhostbusters: Afterlife',\n",
    "    'Spider-Man: NO way home',\n",
    "    \"Shang-chi\",\n",
    "    'Eternals',\n",
    "    'The Last Duel',\n",
    "    'Venom: Let There be Carnage',\n",
    "    'puspa'\n",
    "    \n",
    "]"
   ]
  },
  {
   "cell_type": "code",
   "execution_count": 31,
   "metadata": {},
   "outputs": [
    {
     "name": "stdout",
     "output_type": "stream",
     "text": [
      "normal\n",
      " ['Fhostbusters: Afterlife', 'Spider-Man: NO way home', 'Shang-chi', 'Eternals', 'The Last Duel', 'Venom: Let There be Carnage', 'puspa']\n",
      "reverse\n",
      " ['puspa', 'Venom: Let There be Carnage', 'The Last Duel', 'Eternals', 'Shang-chi', 'Spider-Man: NO way home', 'Fhostbusters: Afterlife']\n"
     ]
    }
   ],
   "source": [
    "print(\"normal\\n\", movies)\n",
    "movies.reverse()\n",
    "print(\"reverse\\n\", movies)"
   ]
  },
  {
   "cell_type": "code",
   "execution_count": 33,
   "metadata": {},
   "outputs": [
    {
     "name": "stdout",
     "output_type": "stream",
     "text": [
      "['Eternals', 'Fhostbusters: Afterlife', 'Shang-chi', 'Spider-Man: NO way home', 'The Last Duel', 'Venom: Let There be Carnage', 'puspa']\n"
     ]
    }
   ],
   "source": [
    "movies.sort()  # Alphabet order\n",
    "print(movies)"
   ]
  },
  {
   "cell_type": "code",
   "execution_count": 35,
   "metadata": {},
   "outputs": [
    {
     "name": "stdout",
     "output_type": "stream",
     "text": [
      "['puspa', 'Venom: Let There be Carnage', 'The Last Duel', 'Spider-Man: NO way home', 'Shang-chi', 'Fhostbusters: Afterlife', 'Eternals']\n"
     ]
    }
   ],
   "source": [
    "movies.sort(reverse=True)  # Alphabet reverse order\n",
    "print(movies)"
   ]
  },
  {
   "cell_type": "markdown",
   "metadata": {},
   "source": [
    "### Copy function is used to copy"
   ]
  },
  {
   "cell_type": "code",
   "execution_count": 56,
   "metadata": {},
   "outputs": [
    {
     "name": "stdout",
     "output_type": "stream",
     "text": [
      "['puspa', 'Venom: Let There be Carnage', 'The Last Duel', 'Spider-Man: NO way home', 'Shang-chi', 'Fhostbusters: Afterlife', 'Eternals']\n"
     ]
    }
   ],
   "source": [
    "dup_mov = movies.copy()   \n",
    "print(dup_mov)"
   ]
  },
  {
   "cell_type": "code",
   "execution_count": 57,
   "metadata": {},
   "outputs": [
    {
     "data": {
      "text/plain": [
       "['puspa',\n",
       " 'Venom: Let There be Carnage',\n",
       " 'The Last Duel',\n",
       " 'Spider-Man: NO way home',\n",
       " 'Shang-chi',\n",
       " 'Fhostbusters: Afterlife',\n",
       " 'Eternals']"
      ]
     },
     "execution_count": 57,
     "metadata": {},
     "output_type": "execute_result"
    }
   ],
   "source": [
    "dup_mov = movies.copy()\n",
    "dup_mov"
   ]
  },
  {
   "cell_type": "code",
   "execution_count": 58,
   "metadata": {},
   "outputs": [
    {
     "data": {
      "text/plain": [
       "6"
      ]
     },
     "execution_count": 58,
     "metadata": {},
     "output_type": "execute_result"
    }
   ],
   "source": [
    "movies.index('Eternals')"
   ]
  },
  {
   "cell_type": "code",
   "execution_count": 59,
   "metadata": {},
   "outputs": [
    {
     "data": {
      "text/plain": [
       "0"
      ]
     },
     "execution_count": 59,
     "metadata": {},
     "output_type": "execute_result"
    }
   ],
   "source": [
    "movies.index('puspa')"
   ]
  },
  {
   "cell_type": "code",
   "execution_count": 60,
   "metadata": {},
   "outputs": [
    {
     "ename": "ValueError",
     "evalue": "'Chang_chi' is not in list",
     "output_type": "error",
     "traceback": [
      "\u001b[1;31m---------------------------------------------------------------------------\u001b[0m",
      "\u001b[1;31mValueError\u001b[0m                                Traceback (most recent call last)",
      "Input \u001b[1;32mIn [60]\u001b[0m, in \u001b[0;36m<module>\u001b[1;34m\u001b[0m\n\u001b[0;32m      1\u001b[0m \u001b[39mif\u001b[39;00m \u001b[39m'\u001b[39m\u001b[39mpuspa\u001b[39m\u001b[39m'\u001b[39m \u001b[39min\u001b[39;00m movies:\n\u001b[1;32m----> 2\u001b[0m     \u001b[39mprint\u001b[39m(movies\u001b[39m.\u001b[39;49mindex(\u001b[39m'\u001b[39;49m\u001b[39mChang_chi\u001b[39;49m\u001b[39m'\u001b[39;49m))\n",
      "\u001b[1;31mValueError\u001b[0m: 'Chang_chi' is not in list"
     ]
    }
   ],
   "source": [
    "if 'puspa' in movies:\n",
    "    print(movies.index('Chang_chi'))"
   ]
  },
  {
   "cell_type": "code",
   "execution_count": null,
   "metadata": {},
   "outputs": [],
   "source": [
    "x = [1,2,3,4,1,3,4,5,5,6,4,2,4,5,6,7,8,9,0,0,9,9,8,4,3,2,2,3,]"
   ]
  },
  {
   "cell_type": "code",
   "execution_count": null,
   "metadata": {},
   "outputs": [
    {
     "data": {
      "text/plain": [
       "2"
      ]
     },
     "execution_count": 52,
     "metadata": {},
     "output_type": "execute_result"
    }
   ],
   "source": [
    "x.count(1)"
   ]
  },
  {
   "cell_type": "code",
   "execution_count": null,
   "metadata": {},
   "outputs": [
    {
     "data": {
      "text/plain": [
       "4"
      ]
     },
     "execution_count": 55,
     "metadata": {},
     "output_type": "execute_result"
    }
   ],
   "source": [
    "x.count(2)"
   ]
  },
  {
   "cell_type": "code",
   "execution_count": null,
   "metadata": {},
   "outputs": [
    {
     "data": {
      "text/plain": [
       "4"
      ]
     },
     "execution_count": 54,
     "metadata": {},
     "output_type": "execute_result"
    }
   ],
   "source": [
    "x.count(3)"
   ]
  },
  {
   "cell_type": "markdown",
   "metadata": {},
   "source": [
    "## Ques => WAP to enter 15 number in list, the print the sum, min, max, mean of that list"
   ]
  },
  {
   "cell_type": "code",
   "execution_count": 69,
   "metadata": {},
   "outputs": [
    {
     "name": "stdout",
     "output_type": "stream",
     "text": [
      "Sum of the list is \n",
      " 105\n"
     ]
    }
   ],
   "source": [
    "y = [1,2,3,4,5,6,7,8,9,10,11,12,13,14,15]\n",
    "a = 0\n",
    "for i in range(15):\n",
    "    a += i\n",
    "print(\"Sum of the list is \\n\", a)"
   ]
  },
  {
   "cell_type": "code",
   "execution_count": 74,
   "metadata": {},
   "outputs": [
    {
     "name": "stdout",
     "output_type": "stream",
     "text": [
      "Sum of nums =  66\n",
      "min value =  1\n",
      "max valus =  7\n",
      "mean of values =  4.4\n"
     ]
    }
   ],
   "source": [
    "nums = []\n",
    "for i in range(15):\n",
    "    val = int(input(f'Enter {i+1} number:'))\n",
    "    nums.append(val)\n",
    "\n",
    "print(\"Sum of nums = \", sum(nums))\n",
    "print(\"min value = \", min(nums))\n",
    "print(\"max valus = \", max(nums))\n",
    "print(\"mean of values = \", sum(nums)/len(nums))"
   ]
  },
  {
   "cell_type": "code",
   "execution_count": null,
   "metadata": {},
   "outputs": [],
   "source": [
    "\n"
   ]
  }
 ],
 "metadata": {
  "interpreter": {
   "hash": "8eeacb674f5bbd40a760011ec84bc373e17163a2472ef87b5d27755525a49110"
  },
  "kernelspec": {
   "display_name": "Python 3.9.5 ('base')",
   "language": "python",
   "name": "python3"
  },
  "language_info": {
   "codemirror_mode": {
    "name": "ipython",
    "version": 3
   },
   "file_extension": ".py",
   "mimetype": "text/x-python",
   "name": "python",
   "nbconvert_exporter": "python",
   "pygments_lexer": "ipython3",
   "version": "3.9.5"
  },
  "orig_nbformat": 4
 },
 "nbformat": 4,
 "nbformat_minor": 2
}
