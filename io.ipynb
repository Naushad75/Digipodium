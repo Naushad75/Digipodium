{
 "cells": [
  {
   "cell_type": "code",
   "execution_count": 1,
   "metadata": {},
   "outputs": [],
   "source": [
    "x = 10 \n",
    "y = 20\n",
    "z = \"Apple\""
   ]
  },
  {
   "cell_type": "code",
   "execution_count": 2,
   "metadata": {},
   "outputs": [
    {
     "data": {
      "text/plain": [
       "'Apple'"
      ]
     },
     "execution_count": 2,
     "metadata": {},
     "output_type": "execute_result"
    }
   ],
   "source": [
    "x\n",
    "y\n",
    "z"
   ]
  },
  {
   "cell_type": "code",
   "execution_count": 4,
   "metadata": {},
   "outputs": [
    {
     "name": "stdout",
     "output_type": "stream",
     "text": [
      "10\n",
      "20\n",
      "Apple\n"
     ]
    }
   ],
   "source": [
    "print(x)\n",
    "print(y)\n",
    "print(z)"
   ]
  },
  {
   "cell_type": "code",
   "execution_count": 5,
   "metadata": {},
   "outputs": [
    {
     "name": "stdout",
     "output_type": "stream",
     "text": [
      "10 20 Apple All of these\n"
     ]
    }
   ],
   "source": [
    "print(x,y,z,\"All of these\")"
   ]
  },
  {
   "cell_type": "code",
   "execution_count": 6,
   "metadata": {},
   "outputs": [
    {
     "name": "stdout",
     "output_type": "stream",
     "text": [
      "Apple,banana,Cherry,Dragonfruit\n"
     ]
    }
   ],
   "source": [
    "print(\"Apple\", 'banana', 'Cherry', 'Dragonfruit', sep=\",\")"
   ]
  },
  {
   "cell_type": "markdown",
   "metadata": {},
   "source": [
    "### How to display text mixed with variable\n",
    "- comma seperaed\n",
    "- format specfific\n",
    "- using + as  concaenation\n",
    "- using format() function \n",
    "- using f-string(from varsion 3.6)"
   ]
  },
  {
   "cell_type": "code",
   "execution_count": 7,
   "metadata": {},
   "outputs": [],
   "source": [
    "lang = \"Python\"\n",
    "lc = \"easy\"\n",
    "varsion = \"3.10\"\n",
    "creator = \"Guido Van Rossum\""
   ]
  },
  {
   "cell_type": "code",
   "execution_count": 9,
   "metadata": {},
   "outputs": [
    {
     "name": "stdout",
     "output_type": "stream",
     "text": [
      "Python is an easy language created by Guido Van Rossum the current varsion is 3.10\n"
     ]
    }
   ],
   "source": [
    "print(lang,\"is an\", lc, \"language created by\", creator,\"the current varsion is\", varsion)"
   ]
  },
  {
   "cell_type": "code",
   "execution_count": 11,
   "metadata": {},
   "outputs": [
    {
     "name": "stdout",
     "output_type": "stream",
     "text": [
      "Python is an easy language created by Guido Van Rossum, the current varsion is 3.10\n"
     ]
    }
   ],
   "source": [
    "print('%s is an %s language created by %s, the current varsion is %s' %(lang,lc,creator,varsion))"
   ]
  },
  {
   "cell_type": "code",
   "execution_count": 14,
   "metadata": {},
   "outputs": [
    {
     "name": "stdout",
     "output_type": "stream",
     "text": [
      "Pythonis an easy language created by Guido Van Rossumthe current varsion is 3.10\n"
     ]
    }
   ],
   "source": [
    "print(lang + \"is an \"+lc+\" language created by \"+ creator+\"the current varsion is \"+varsion)"
   ]
  },
  {
   "cell_type": "code",
   "execution_count": 22,
   "metadata": {},
   "outputs": [
    {
     "name": "stdout",
     "output_type": "stream",
     "text": [
      "Python is an easy language created by Guido Van Rossum, the current version is 3.10\n"
     ]
    }
   ],
   "source": [
    "print('{} is an {} language created by {}, the current version is {}'.format(lang,lc,creator,varsion))"
   ]
  },
  {
   "cell_type": "markdown",
   "metadata": {},
   "source": [
    "The better way to create and print  message in python is f-string introduced in varsion 3.6"
   ]
  },
  {
   "cell_type": "code",
   "execution_count": 18,
   "metadata": {},
   "outputs": [
    {
     "name": "stdout",
     "output_type": "stream",
     "text": [
      "Python is an easy language\n"
     ]
    }
   ],
   "source": [
    "print(f'{lang} is an {lc} language')"
   ]
  },
  {
   "cell_type": "code",
   "execution_count": 20,
   "metadata": {},
   "outputs": [
    {
     "name": "stdout",
     "output_type": "stream",
     "text": [
      "Python is an easy language created by Guido Van Rossum, the current varsion is 3.10\n"
     ]
    }
   ],
   "source": [
    "print(f'{lang} is an {lc} language created by {creator}, the current varsion is {varsion}')"
   ]
  },
  {
   "cell_type": "markdown",
   "metadata": {},
   "source": [
    "### Take input"
   ]
  },
  {
   "cell_type": "code",
   "execution_count": 26,
   "metadata": {},
   "outputs": [],
   "source": [
    "a = input(\"Enter the value of a=>\")"
   ]
  },
  {
   "cell_type": "code",
   "execution_count": 27,
   "metadata": {},
   "outputs": [
    {
     "name": "stdout",
     "output_type": "stream",
     "text": [
      "naushad 21 were given\n",
      "<class 'str'> <class 'str'>\n"
     ]
    }
   ],
   "source": [
    "name = input('enter your name')\n",
    "age = input('enter your age')\n",
    "print(name,age, 'were given')\n",
    "print(type(name), type(age))"
   ]
  },
  {
   "cell_type": "code",
   "execution_count": 30,
   "metadata": {},
   "outputs": [
    {
     "name": "stdout",
     "output_type": "stream",
     "text": [
      "31\n"
     ]
    }
   ],
   "source": [
    "temp = int(input(\"enter temperature in egrees\"))\n",
    "print(temp +10)"
   ]
  },
  {
   "cell_type": "code",
   "execution_count": 31,
   "metadata": {},
   "outputs": [
    {
     "data": {
      "text/plain": [
       "246"
      ]
     },
     "execution_count": 31,
     "metadata": {},
     "output_type": "execute_result"
    }
   ],
   "source": [
    "a = int(input('enter A:'))\n",
    "b = int(input('enter B:'))\n",
    "a+b"
   ]
  }
 ],
 "metadata": {
  "interpreter": {
   "hash": "8eeacb674f5bbd40a760011ec84bc373e17163a2472ef87b5d27755525a49110"
  },
  "kernelspec": {
   "display_name": "Python 3.9.5 64-bit ('base': conda)",
   "language": "python",
   "name": "python3"
  },
  "language_info": {
   "codemirror_mode": {
    "name": "ipython",
    "version": 3
   },
   "file_extension": ".py",
   "mimetype": "text/x-python",
   "name": "python",
   "nbconvert_exporter": "python",
   "pygments_lexer": "ipython3",
   "version": "3.9.5"
  },
  "orig_nbformat": 4
 },
 "nbformat": 4,
 "nbformat_minor": 2
}
