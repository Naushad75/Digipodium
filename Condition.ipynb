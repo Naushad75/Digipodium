{
 "cells": [
  {
   "cell_type": "code",
   "execution_count": 3,
   "metadata": {},
   "outputs": [
    {
     "name": "stdout",
     "output_type": "stream",
     "text": [
      "you see an apple seller\n",
      "you dont purchase apple\n"
     ]
    }
   ],
   "source": [
    "print('you see an apple seller')\n",
    "q = input('do you like apples')\n",
    "\n",
    "if q == 'yes' :\n",
    "    print('purchase 2kg of apple')\n",
    "if q =='no' :\n",
    "    print('you dont purchase apple')"
   ]
  },
  {
   "cell_type": "code",
   "execution_count": 7,
   "metadata": {},
   "outputs": [
    {
     "name": "stdout",
     "output_type": "stream",
     "text": [
      "x is greater then 5\n",
      "this is the info we needed\n",
      "with this power, comes great responsiblilty\n",
      "the end\n"
     ]
    }
   ],
   "source": [
    "x = 10\n",
    "#print=int(input('enter the no'))\n",
    "if x > 5:\n",
    "    print('x is greater then 5')\n",
    "    print('this is the info we needed')\n",
    "    print('with this power, comes great responsiblilty')\n",
    "print('the end')"
   ]
  },
  {
   "cell_type": "code",
   "execution_count": 9,
   "metadata": {},
   "outputs": [
    {
     "name": "stdout",
     "output_type": "stream",
     "text": [
      "wear short\n",
      "Get some exercise outside.\n"
     ]
    }
   ],
   "source": [
    "temp = float(input('what is the temperature'))\n",
    "if temp > 70 :\n",
    "    print('wear short')\n",
    "else:\n",
    "    print('wear long pants')\n",
    "print('Get some exercise outside.')"
   ]
  },
  {
   "cell_type": "code",
   "execution_count": 14,
   "metadata": {},
   "outputs": [
    {
     "name": "stdout",
     "output_type": "stream",
     "text": [
      "C\n"
     ]
    }
   ],
   "source": [
    "score = int(input('your score ->'))\n",
    "if score >= 90:\n",
    "    letter = 'A'\n",
    "elif score >= 80:\n",
    "    letter = 'B'\n",
    "elif score >= 70:\n",
    "    letter = 'C'\n",
    "elif score >= 60:\n",
    "    letter = 'D'\n",
    "else:\n",
    "    letter = 'F'\n",
    "print(letter)"
   ]
  },
  {
   "cell_type": "code",
   "execution_count": 16,
   "metadata": {},
   "outputs": [
    {
     "name": "stdout",
     "output_type": "stream",
     "text": [
      "42\n"
     ]
    }
   ],
   "source": [
    "# One-Liner Allternative 1:\n",
    "if 42 in range (100): print(\"42\")\n"
   ]
  },
  {
   "cell_type": "code",
   "execution_count": 17,
   "metadata": {},
   "outputs": [
    {
     "name": "stdout",
     "output_type": "stream",
     "text": [
      "bob\n"
     ]
    }
   ],
   "source": [
    "# One-Liner Alternative 2:\n",
    "x = \"Alice\" if \"john\" in \"My name is Jonas\" else \"bob\"\n",
    "print (x)"
   ]
  },
  {
   "cell_type": "code",
   "execution_count": 18,
   "metadata": {},
   "outputs": [
    {
     "name": "stdout",
     "output_type": "stream",
     "text": [
      "Brown\n"
     ]
    }
   ],
   "source": [
    "print('Yellow') if \"y\" in \"Orange\" else print(\"Brown\")"
   ]
  },
  {
   "cell_type": "code",
   "execution_count": null,
   "metadata": {},
   "outputs": [],
   "source": [
    "# One-Lines Alternativve 3:\n"
   ]
  }
 ],
 "metadata": {
  "interpreter": {
   "hash": "8eeacb674f5bbd40a760011ec84bc373e17163a2472ef87b5d27755525a49110"
  },
  "kernelspec": {
   "display_name": "Python 3.9.5 64-bit ('base': conda)",
   "language": "python",
   "name": "python3"
  },
  "language_info": {
   "codemirror_mode": {
    "name": "ipython",
    "version": 3
   },
   "file_extension": ".py",
   "mimetype": "text/x-python",
   "name": "python",
   "nbconvert_exporter": "python",
   "pygments_lexer": "ipython3",
   "version": "3.9.5"
  },
  "orig_nbformat": 4
 },
 "nbformat": 4,
 "nbformat_minor": 2
}
