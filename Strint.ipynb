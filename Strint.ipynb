{
 "cells": [
  {
   "cell_type": "code",
   "execution_count": 1,
   "metadata": {},
   "outputs": [
    {
     "name": "stdout",
     "output_type": "stream",
     "text": [
      "hello\n",
      "<class 'str'>\n"
     ]
    }
   ],
   "source": [
    "a = \"hello\"\n",
    "print(a)\n",
    "print(type(a))"
   ]
  },
  {
   "cell_type": "code",
   "execution_count": 2,
   "metadata": {},
   "outputs": [
    {
     "name": "stdout",
     "output_type": "stream",
     "text": [
      "World\n",
      "<class 'str'>\n"
     ]
    }
   ],
   "source": [
    "b = 'World'\n",
    "print(b)\n",
    "print(type(b))"
   ]
  },
  {
   "cell_type": "code",
   "execution_count": 5,
   "metadata": {},
   "outputs": [
    {
     "name": "stdout",
     "output_type": "stream",
     "text": [
      "The monster was 20' feet tall\n"
     ]
    }
   ],
   "source": [
    "c = \"The monster was 20' feet tall\"\n",
    "print(c)"
   ]
  },
  {
   "cell_type": "code",
   "execution_count": 6,
   "metadata": {},
   "outputs": [
    {
     "name": "stdout",
     "output_type": "stream",
     "text": [
      "the minster was 20\" feet tall\n"
     ]
    }
   ],
   "source": [
    "c = 'the minster was 20\" feet tall'\n",
    "print(c)"
   ]
  },
  {
   "cell_type": "markdown",
   "metadata": {},
   "source": [
    "### String -> What you need to know\n",
    "1. Indexing and Slicing\n",
    "2. Function"
   ]
  },
  {
   "cell_type": "code",
   "execution_count": 1,
   "metadata": {},
   "outputs": [
    {
     "name": "stdout",
     "output_type": "stream",
     "text": [
      "str = digipodium\n",
      "str[0] =  d\n",
      "str[1] =  i\n",
      "str[-1] =  m\n",
      "str[-2] =  u\n"
     ]
    }
   ],
   "source": [
    "# Accessing element of string\n",
    "str = 'digipodium'\n",
    "print('str =', str)\n",
    "\n",
    "# First character\n",
    "print('str[0] = ', str[0])\n",
    "\n",
    "# Second character\n",
    "print('str[1] = ', str[1])\n",
    "\n",
    "# Last character\n",
    "print('str[-1] = ', str[-1])\n",
    "\n",
    "# Second last character\n",
    "print('str[-2] = ', str[-2])"
   ]
  },
  {
   "cell_type": "code",
   "execution_count": 11,
   "metadata": {},
   "outputs": [],
   "source": [
    "name = \"Naushad Ahmad\""
   ]
  },
  {
   "cell_type": "code",
   "execution_count": 12,
   "metadata": {},
   "outputs": [
    {
     "data": {
      "text/plain": [
       "'a'"
      ]
     },
     "execution_count": 12,
     "metadata": {},
     "output_type": "execute_result"
    }
   ],
   "source": [
    "name[-2]"
   ]
  },
  {
   "cell_type": "code",
   "execution_count": 13,
   "metadata": {},
   "outputs": [
    {
     "data": {
      "text/plain": [
       "'had'"
      ]
     },
     "execution_count": 13,
     "metadata": {},
     "output_type": "execute_result"
    }
   ],
   "source": [
    "name[4] + name[5] + name[6]"
   ]
  },
  {
   "cell_type": "markdown",
   "metadata": {},
   "source": [
    "## Getting a Slice"
   ]
  },
  {
   "cell_type": "code",
   "execution_count": 15,
   "metadata": {},
   "outputs": [
    {
     "name": "stdout",
     "output_type": "stream",
     "text": [
      "pod\n"
     ]
    }
   ],
   "source": [
    "# Getting a slice\n",
    "s = 'digipodium'\n",
    "slice1 = s[4:7]\n",
    "print(slice1)"
   ]
  },
  {
   "cell_type": "code",
   "execution_count": 23,
   "metadata": {},
   "outputs": [],
   "source": [
    "name = \"William Shekspear\""
   ]
  },
  {
   "cell_type": "code",
   "execution_count": 25,
   "metadata": {},
   "outputs": [
    {
     "name": "stdout",
     "output_type": "stream",
     "text": [
      "Shek\n"
     ]
    }
   ],
   "source": [
    "slice2 = name[8:13]\n",
    "print(slice2)"
   ]
  },
  {
   "cell_type": "code",
   "execution_count": 28,
   "metadata": {},
   "outputs": [
    {
     "name": "stdout",
     "output_type": "stream",
     "text": [
      "spear\n"
     ]
    }
   ],
   "source": [
    "slice3 = name[-5:]\n",
    "print(slice3)"
   ]
  },
  {
   "cell_type": "code",
   "execution_count": 29,
   "metadata": {},
   "outputs": [
    {
     "name": "stdout",
     "output_type": "stream",
     "text": [
      "Will\n",
      "Will\n"
     ]
    }
   ],
   "source": [
    "slice4 = name[0:4]\n",
    "slice5 = name[:4]\n",
    "print(slice4)\n",
    "print(slice5)"
   ]
  },
  {
   "cell_type": "code",
   "execution_count": 30,
   "metadata": {},
   "outputs": [
    {
     "name": "stdout",
     "output_type": "stream",
     "text": [
      "iam Shekspear\n",
      "iam Shekspear\n"
     ]
    }
   ],
   "source": [
    "slice6 = name[4:len(name)]\n",
    "slice7 = name[4:]\n",
    "print(slice6)\n",
    "print(slice7)"
   ]
  },
  {
   "cell_type": "markdown",
   "metadata": {},
   "source": [
    "## Build in Function\n",
    "- chr()\n",
    "- ord()\n",
    "- len()\n",
    "- str()"
   ]
  },
  {
   "cell_type": "code",
   "execution_count": 31,
   "metadata": {},
   "outputs": [
    {
     "name": "stdout",
     "output_type": "stream",
     "text": [
      "A\n",
      "ऽ\n",
      "き\n"
     ]
    }
   ],
   "source": [
    "x = chr(65)\n",
    "print(x)\n",
    "x = chr(2365)\n",
    "print(x)\n",
    "x = chr(12365)\n",
    "print(x)"
   ]
  },
  {
   "cell_type": "code",
   "execution_count": 4,
   "metadata": {},
   "outputs": [
    {
     "name": "stdout",
     "output_type": "stream",
     "text": [
      "0 : \u0000\t\n",
      "1 : \u0001\t2 : \u0002\t3 : \u0003\t4 : \u0004\t5 : \u0005\t6 : \u0006\t7 : \u0007\t8 :\t9 : \t\t10 : \n",
      "\t\n",
      "\t14 : \u000e\t15 : \u000f\t16 : \u0010\t17 : \u0011\t18 : \u0012\t19 : \u0013\t20 : \u0014\t\n",
      "21 : \u0015\t22 : \u0016\t23 : \u0017\t24 : \u0018\t25 : \u0019\t26 : \u001a\t27 : \u001b\t28 : \u001c\t29 : \u001d\t30 : \u001e\t\n",
      "31 : \u001f\t32 :  \t33 : !\t34 : \"\t35 : #\t36 : $\t37 : %\t38 : &\t39 : '\t40 : (\t\n",
      "41 : )\t42 : *\t43 : +\t44 : ,\t45 : -\t46 : .\t47 : /\t48 : 0\t49 : 1\t"
     ]
    }
   ],
   "source": [
    "for i in range(50):\n",
    "    print(f\"{i} : {chr(i)}\", end='\\t')\n",
    "    if i%10 == 0:\n",
    "        print()"
   ]
  },
  {
   "cell_type": "code",
   "execution_count": 38,
   "metadata": {},
   "outputs": [
    {
     "name": "stdout",
     "output_type": "stream",
     "text": [
      "⛽\n"
     ]
    }
   ],
   "source": [
    "print(chr(9981))"
   ]
  },
  {
   "cell_type": "code",
   "execution_count": 43,
   "metadata": {},
   "outputs": [
    {
     "name": "stdout",
     "output_type": "stream",
     "text": [
      "7\n",
      "5\n",
      "4\n"
     ]
    }
   ],
   "source": [
    "print(len(\"amazing\"))\n",
    "print(len(\"world\"))\n",
    "size = len(\"hope\")\n",
    "print(size)"
   ]
  },
  {
   "cell_type": "code",
   "execution_count": 44,
   "metadata": {},
   "outputs": [
    {
     "data": {
      "text/plain": [
       "'William Shekspear'"
      ]
     },
     "execution_count": 44,
     "metadata": {},
     "output_type": "execute_result"
    }
   ],
   "source": [
    "name"
   ]
  },
  {
   "cell_type": "code",
   "execution_count": 48,
   "metadata": {},
   "outputs": [
    {
     "data": {
      "text/plain": [
       "'raepskehS mailliW'"
      ]
     },
     "execution_count": 48,
     "metadata": {},
     "output_type": "execute_result"
    }
   ],
   "source": [
    "name[::-1] # reverse"
   ]
  },
  {
   "cell_type": "code",
   "execution_count": 46,
   "metadata": {},
   "outputs": [
    {
     "data": {
      "text/plain": [
       "'WlimSeser'"
      ]
     },
     "execution_count": 46,
     "metadata": {},
     "output_type": "execute_result"
    }
   ],
   "source": [
    "name[::2] # even indexes values"
   ]
  },
  {
   "cell_type": "code",
   "execution_count": 49,
   "metadata": {},
   "outputs": [
    {
     "data": {
      "text/plain": [
       "'ila hkpa'"
      ]
     },
     "execution_count": 49,
     "metadata": {},
     "output_type": "execute_result"
    }
   ],
   "source": [
    "name[1::2] # odd indexes values"
   ]
  },
  {
   "cell_type": "code",
   "execution_count": 12,
   "metadata": {},
   "outputs": [
    {
     "name": "stdout",
     "output_type": "stream",
     "text": [
      "wikipedia\n"
     ]
    }
   ],
   "source": [
    "w1 = \"wikinews\"\n",
    "w2 = \"encylopedia\"\n",
    "a = w1[0:4]\n",
    "b = w2[-5:]\n",
    "c = a+b\n",
    "print(c)"
   ]
  },
  {
   "cell_type": "code",
   "execution_count": 14,
   "metadata": {},
   "outputs": [
    {
     "name": "stdout",
     "output_type": "stream",
     "text": [
      "wikipedia\n"
     ]
    }
   ],
   "source": [
    "w1 = \"wikinews\"\n",
    "w2 = \"encylopedia\"\n",
    "w3 = w1[:4] + w2[-5:]\n",
    "print(w3)"
   ]
  },
  {
   "cell_type": "markdown",
   "metadata": {},
   "source": [
    "# String Function\n",
    "- Formation\n",
    "    - upper\n",
    "    - lower\n",
    "    - title \n",
    "    - capitalize\n",
    "    - swapcase\n",
    "    - casefold\n",
    "    - format\n",
    "    - ljust\n",
    "    - rjust\n",
    "    - center\n",
    "\n",
    "- Validation\n",
    "    - isalpha\n",
    "    - isalnum\n",
    "    - isdigit\n",
    "    - isnummeric\n",
    "    - isprintable\n",
    "    - isupper \n",
    "    - islower\n",
    "    - startwith\n",
    "    - endswith\n",
    "    - stc.,\n",
    "\n",
    "- Utility\n",
    "    - count\n",
    "    - replace\n",
    "    - strip\n",
    "    - join\n",
    "    - split"
   ]
  },
  {
   "cell_type": "code",
   "execution_count": 17,
   "metadata": {},
   "outputs": [
    {
     "name": "stdout",
     "output_type": "stream",
     "text": [
      "this________is__________me_Naushad\n"
     ]
    }
   ],
   "source": [
    "junk_str = \"this!@#$%^&*is()_+{}|:>?me<Naushad\"\n",
    "pun = \"!@#$%^&*()_+{}|:?><\"\n",
    "for char in pun:\n",
    "    junk_str = junk_str.replace(char,\"_\")\n",
    "print(junk_str)"
   ]
  },
  {
   "cell_type": "code",
   "execution_count": 3,
   "metadata": {},
   "outputs": [],
   "source": [
    "quote = \"Life before death, Hope before despair, Journey before destination\""
   ]
  },
  {
   "cell_type": "markdown",
   "metadata": {},
   "source": [
    "##### REMOVE ALL 'a' characters from the quote"
   ]
  },
  {
   "cell_type": "code",
   "execution_count": 4,
   "metadata": {},
   "outputs": [
    {
     "data": {
      "text/plain": [
       "'Life before deth, Hope before despir, Journey before destintion'"
      ]
     },
     "execution_count": 4,
     "metadata": {},
     "output_type": "execute_result"
    }
   ],
   "source": [
    "quote.replace('a','')"
   ]
  },
  {
   "cell_type": "code",
   "execution_count": 6,
   "metadata": {},
   "outputs": [
    {
     "data": {
      "text/plain": [
       "'Life  death, Hope  despair, Journey  destination'"
      ]
     },
     "execution_count": 6,
     "metadata": {},
     "output_type": "execute_result"
    }
   ],
   "source": [
    "quote.replace('before','')"
   ]
  },
  {
   "cell_type": "markdown",
   "metadata": {},
   "source": [
    "#### remove all vowels from string"
   ]
  },
  {
   "cell_type": "code",
   "execution_count": 11,
   "metadata": {},
   "outputs": [
    {
     "name": "stdout",
     "output_type": "stream",
     "text": [
      "original: Life before death, Hope before despair, Journey before destination\n",
      "no vowle: Lf bfr dth, Hp bfr dspr, Jrny bfr dstntn\n"
     ]
    }
   ],
   "source": [
    "q = quote #copy the variable for the sake of humanity\n",
    "for vowel in \"aeiouAEIOU\":\n",
    "    q = q.replace(vowel,'')\n",
    "print('original:', quote)\n",
    "print(\"no vowle:\", q)"
   ]
  },
  {
   "cell_type": "markdown",
   "metadata": {},
   "source": [
    "##### Remove all the special character"
   ]
  },
  {
   "cell_type": "code",
   "execution_count": 14,
   "metadata": {},
   "outputs": [
    {
     "name": "stdout",
     "output_type": "stream",
     "text": [
      "After removing the commas:  Life before death Hope before despair Journey before destination\n"
     ]
    }
   ],
   "source": [
    "a = quote \n",
    "for comma in \",\":\n",
    "    a = a.replace(comma,'')\n",
    "print(\"After removing the commas: \",a)"
   ]
  },
  {
   "cell_type": "markdown",
   "metadata": {},
   "source": [
    "#### Count the character in string"
   ]
  },
  {
   "cell_type": "code",
   "execution_count": 18,
   "metadata": {},
   "outputs": [
    {
     "ename": "NameError",
     "evalue": "name 'quote' is not defined",
     "output_type": "error",
     "traceback": [
      "\u001b[1;31m---------------------------------------------------------------------------\u001b[0m",
      "\u001b[1;31mNameError\u001b[0m                                 Traceback (most recent call last)",
      "\u001b[1;32mc:\\Users\\Dell\\Dropbox\\My PC (DESKTOP-P7SUVV3)\\Documents\\Digipodium\\Strint.ipynb Cell 37'\u001b[0m in \u001b[0;36m<module>\u001b[1;34m\u001b[0m\n\u001b[1;32m----> <a href='vscode-notebook-cell:/c%3A/Users/Dell/Dropbox/My%20PC%20%28DESKTOP-P7SUVV3%29/Documents/Digipodium/Strint.ipynb#ch0000034?line=0'>1</a>\u001b[0m quote\u001b[39m.\u001b[39mcount(\u001b[39m'\u001b[39m\u001b[39ma\u001b[39m\u001b[39m'\u001b[39m)\n",
      "\u001b[1;31mNameError\u001b[0m: name 'quote' is not defined"
     ]
    }
   ],
   "source": [
    "quote.count('a')"
   ]
  },
  {
   "cell_type": "code",
   "execution_count": null,
   "metadata": {},
   "outputs": [],
   "source": [
    "from string import ascii_lowercase\n",
    "for letter in ascii_lowercase:\n",
    "    occurs = quote.lower().count(letter)\n",
    "    if occurs:\n",
    "        print(f\"{letter} -> {occurs}\")"
   ]
  },
  {
   "cell_type": "markdown",
   "metadata": {},
   "source": [
    "##### Ques -> write a program to count all the character in a string"
   ]
  },
  {
   "cell_type": "code",
   "execution_count": 27,
   "metadata": {},
   "outputs": [
    {
     "data": {
      "text/plain": [
       "['Life',\n",
       " 'before',\n",
       " 'death,',\n",
       " 'Hope',\n",
       " 'before',\n",
       " 'despair,',\n",
       " 'Journey',\n",
       " 'before',\n",
       " 'destination']"
      ]
     },
     "execution_count": 27,
     "metadata": {},
     "output_type": "execute_result"
    }
   ],
   "source": [
    "quote.split()"
   ]
  },
  {
   "cell_type": "markdown",
   "metadata": {},
   "source": [
    "#### Ques -> Write a program to count all the words in a string"
   ]
  },
  {
   "cell_type": "code",
   "execution_count": 29,
   "metadata": {},
   "outputs": [
    {
     "name": "stdout",
     "output_type": "stream",
     "text": [
      "we have 9 words\n"
     ]
    }
   ],
   "source": [
    "words = quote.split()\n",
    "print(\"we have\", len(words),\"words\")"
   ]
  },
  {
   "cell_type": "code",
   "execution_count": 30,
   "metadata": {},
   "outputs": [
    {
     "data": {
      "text/plain": [
       "['Life before death', ' Hope before despair', ' Journey before destination']"
      ]
     },
     "execution_count": 30,
     "metadata": {},
     "output_type": "execute_result"
    }
   ],
   "source": [
    "quote.split(\",\")"
   ]
  },
  {
   "cell_type": "code",
   "execution_count": 31,
   "metadata": {},
   "outputs": [
    {
     "data": {
      "text/plain": [
       "['Lif',\n",
       " ' b',\n",
       " 'for',\n",
       " ' d',\n",
       " 'ath, Hop',\n",
       " ' b',\n",
       " 'for',\n",
       " ' d',\n",
       " 'spair, Journ',\n",
       " 'y b',\n",
       " 'for',\n",
       " ' d',\n",
       " 'stination']"
      ]
     },
     "execution_count": 31,
     "metadata": {},
     "output_type": "execute_result"
    }
   ],
   "source": [
    "quote.split(\"e\")"
   ]
  },
  {
   "cell_type": "code",
   "execution_count": null,
   "metadata": {},
   "outputs": [],
   "source": []
  }
 ],
 "metadata": {
  "interpreter": {
   "hash": "8eeacb674f5bbd40a760011ec84bc373e17163a2472ef87b5d27755525a49110"
  },
  "kernelspec": {
   "display_name": "Python 3.9.5 ('base')",
   "language": "python",
   "name": "python3"
  },
  "language_info": {
   "codemirror_mode": {
    "name": "ipython",
    "version": 3
   },
   "file_extension": ".py",
   "mimetype": "text/x-python",
   "name": "python",
   "nbconvert_exporter": "python",
   "pygments_lexer": "ipython3",
   "version": "3.9.5"
  },
  "orig_nbformat": 4
 },
 "nbformat": 4,
 "nbformat_minor": 2
}
