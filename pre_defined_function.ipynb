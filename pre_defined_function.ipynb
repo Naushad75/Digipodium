{
 "cells": [
  {
   "cell_type": "code",
   "execution_count": 14,
   "metadata": {},
   "outputs": [],
   "source": [
    "import os"
   ]
  },
  {
   "cell_type": "code",
   "execution_count": 15,
   "metadata": {},
   "outputs": [
    {
     "data": {
      "text/plain": [
       "'c:\\\\Users\\\\Dell\\\\Dropbox\\\\My PC (DESKTOP-P7SUVV3)\\\\Documents\\\\Digipodium\\\\.vscode'"
      ]
     },
     "execution_count": 15,
     "metadata": {},
     "output_type": "execute_result"
    }
   ],
   "source": [
    "os.getcwd()  #desplay the current working directory "
   ]
  },
  {
   "cell_type": "code",
   "execution_count": 17,
   "metadata": {},
   "outputs": [],
   "source": [
    "os.mkdir(\"codes\")  # create a directory"
   ]
  },
  {
   "cell_type": "code",
   "execution_count": 18,
   "metadata": {},
   "outputs": [
    {
     "name": "stdout",
     "output_type": "stream",
     "text": [
      "The directory exists\n"
     ]
    }
   ],
   "source": [
    "if os.path.exists(\"codes\"):   # To check the path in directories  \n",
    "    print(\"The directory exists\")\n",
    "else:\n",
    "    os.mkdir(\"codes\")     # create a directory"
   ]
  },
  {
   "cell_type": "code",
   "execution_count": 19,
   "metadata": {},
   "outputs": [
    {
     "data": {
      "text/plain": [
       "['codes',\n",
       " 'c_cpp_properties.json',\n",
       " 'dictionary.ipynb',\n",
       " 'pre_defined_function.ipynb',\n",
       " 'set.ipynb',\n",
       " 'tuple.ipynb']"
      ]
     },
     "execution_count": 19,
     "metadata": {},
     "output_type": "execute_result"
    }
   ],
   "source": [
    "os.listdir()   # list all the files and directories in the current working directory"
   ]
  },
  {
   "cell_type": "code",
   "execution_count": 20,
   "metadata": {},
   "outputs": [
    {
     "name": "stdout",
     "output_type": "stream",
     "text": [
      "105 items in the directory\n",
      "['addins', 'appcompat', 'apppatch', 'AppReadiness', 'assembly', 'bcastdvr', 'bfsvc.exe', 'Boot', 'bootstat.dat', 'Branding', 'CbsTemp', 'Containers', 'Core.xml', 'CoreSingleLanguage.xml', 'csup.txt', 'Cursors', 'debug', 'diagerr.xml', 'diagnostics', 'DiagTrack', 'diagwrn.xml', 'DigitalLocker', 'Downloaded Program Files', 'ELAMBKUP', 'en-US', 'explorer.exe', 'Firmware', 'Fonts', 'GameBarPresenceWriter', 'Globalization', 'Help', 'HelpPane.exe', 'hh.exe', 'IdentityCRL', 'IME', 'ImmersiveControlPanel', 'INF', 'InputMethod', 'Installer', 'invcol.tmp', 'L2Schemas', 'LanguageOverlayCache', 'LiveKernelReports', 'Logs', 'Media', 'MEMORY.DMP', 'mib.bin', 'Microsoft.NET', 'Migration', 'Minidump', 'ModemLogs', 'notepad.exe', 'OCR', 'Offline Web Pages', 'Panther', 'Performance', 'PFRO.log', 'PLA', 'PolicyDefinitions', 'Prefetch', 'PrintDialog', 'Provisioning', 'regedit.exe', 'Registration', 'rescache', 'Resources', 'SchCache', 'schemas', 'security', 'ServiceProfiles', 'ServiceState', 'servicing', 'Setup', 'ShellComponents', 'ShellExperiences', 'SKB', 'SoftwareDistribution', 'Speech', 'Speech_OneCore', 'splwow64.exe', 'System', 'system.ini', 'System32', 'SystemApps', 'SystemResources', 'SystemTemp', 'SysWOW64', 'TAPI', 'Tasks', 'Temp', 'tracing', 'twain_32', 'twain_32.dll', 'Vss', 'WaaS', 'Web', 'win.ini', 'WindowsShell.Manifest', 'WindowsUpdate.log', 'winhlp32.exe', 'WinSxS', 'WMSysPr9.prx', 'write.exe', '{596E009B-903D-4FD9-A40C-7714DE2E0211}', '{CF288B74-0960-4CF2-86EB-F80340BC598C}']\n"
     ]
    }
   ],
   "source": [
    "Window_content = os.listdir('C:\\windows')\n",
    "print(f'{len(Window_content)} items in the directory')\n",
    "print(Window_content)"
   ]
  },
  {
   "cell_type": "code",
   "execution_count": 21,
   "metadata": {},
   "outputs": [],
   "source": [
    "images = os.listdir(\"D:\\photo\")"
   ]
  },
  {
   "cell_type": "code",
   "execution_count": 22,
   "metadata": {},
   "outputs": [
    {
     "data": {
      "text/plain": [
       "('07957166-81ff-48dd-8a7d-48f3850059a5', '.jpg')"
      ]
     },
     "execution_count": 22,
     "metadata": {},
     "output_type": "execute_result"
    }
   ],
   "source": [
    "os.path.splitext(images[0])"
   ]
  },
  {
   "cell_type": "code",
   "execution_count": 23,
   "metadata": {},
   "outputs": [
    {
     "name": "stdout",
     "output_type": "stream",
     "text": [
      "[]\n"
     ]
    }
   ],
   "source": [
    "png_images = [file for file in images if file.endswith('.png')]\n",
    "print(png_images)"
   ]
  },
  {
   "cell_type": "code",
   "execution_count": 24,
   "metadata": {},
   "outputs": [],
   "source": [
    "import requests"
   ]
  },
  {
   "cell_type": "code",
   "execution_count": 25,
   "metadata": {},
   "outputs": [],
   "source": [
    "page = requests.get('https://en.wikipedia.org/wiki/Motion_capture')"
   ]
  },
  {
   "cell_type": "code",
   "execution_count": null,
   "metadata": {},
   "outputs": [],
   "source": [
    "page.text"
   ]
  },
  {
   "cell_type": "code",
   "execution_count": 24,
   "metadata": {},
   "outputs": [],
   "source": [
    "page2 = requests.get('https://en.wikipedia.org/wiki/Motion_capture')"
   ]
  },
  {
   "cell_type": "code",
   "execution_count": null,
   "metadata": {},
   "outputs": [],
   "source": [
    "page2.text"
   ]
  },
  {
   "cell_type": "code",
   "execution_count": 27,
   "metadata": {},
   "outputs": [],
   "source": [
    "import random"
   ]
  },
  {
   "cell_type": "code",
   "execution_count": 28,
   "metadata": {},
   "outputs": [],
   "source": [
    "from random import randint"
   ]
  },
  {
   "cell_type": "code",
   "execution_count": 29,
   "metadata": {},
   "outputs": [
    {
     "data": {
      "text/plain": [
       "['1', '2', '3', '4', '5', '6']"
      ]
     },
     "execution_count": 29,
     "metadata": {},
     "output_type": "execute_result"
    }
   ],
   "source": [
    "diceoptions = \"1,2,3,4,5,6\".split(',')\n",
    "diceoptions"
   ]
  },
  {
   "cell_type": "code",
   "execution_count": null,
   "metadata": {},
   "outputs": [],
   "source": []
  }
 ],
 "metadata": {
  "interpreter": {
   "hash": "8eeacb674f5bbd40a760011ec84bc373e17163a2472ef87b5d27755525a49110"
  },
  "kernelspec": {
   "display_name": "Python 3.9.5 ('base')",
   "language": "python",
   "name": "python3"
  },
  "language_info": {
   "codemirror_mode": {
    "name": "ipython",
    "version": 3
   },
   "file_extension": ".py",
   "mimetype": "text/x-python",
   "name": "python",
   "nbconvert_exporter": "python",
   "pygments_lexer": "ipython3",
   "version": "3.9.5"
  },
  "orig_nbformat": 4
 },
 "nbformat": 4,
 "nbformat_minor": 2
}
