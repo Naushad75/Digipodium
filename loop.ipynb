{
 "cells": [
  {
   "cell_type": "code",
   "execution_count": 6,
   "metadata": {},
   "outputs": [
    {
     "name": "stdout",
     "output_type": "stream",
     "text": [
      "120\n"
     ]
    }
   ],
   "source": [
    "num = 5\n",
    "a=1\n",
    "for i in range (1, num+1):\n",
    "    a = a*i\n",
    "print(a)\n"
   ]
  },
  {
   "cell_type": "markdown",
   "metadata": {},
   "source": [
    "# Loops"
   ]
  },
  {
   "cell_type": "code",
   "execution_count": 3,
   "metadata": {},
   "outputs": [
    {
     "name": "stdout",
     "output_type": "stream",
     "text": [
      "P\n",
      "Y\n",
      "T\n",
      "H\n",
      "O\n",
      "N\n",
      "the end\n"
     ]
    }
   ],
   "source": [
    "x = \"PYTHON\"\n",
    "for i in x:\n",
    "    print(i)\n",
    "print('the end')"
   ]
  },
  {
   "cell_type": "code",
   "execution_count": 9,
   "metadata": {},
   "outputs": [
    {
     "name": "stdout",
     "output_type": "stream",
     "text": [
      "i hava apple\n",
      "i hava banana\n",
      "i hava lemon\n"
     ]
    }
   ],
   "source": [
    "fruits = [\"apple\", \"banana\", \"lemon\"]\n",
    "for item in fruits:\n",
    "    print(f\"i hava {item}\")"
   ]
  },
  {
   "cell_type": "code",
   "execution_count": 10,
   "metadata": {},
   "outputs": [],
   "source": [
    "movies = ['The Holi Grail', 'The life of Brian','The Meaning of Life','Terminator','Pulp Fiction']"
   ]
  },
  {
   "cell_type": "code",
   "execution_count": 12,
   "metadata": {},
   "outputs": [
    {
     "name": "stdout",
     "output_type": "stream",
     "text": [
      "The Holi Grail 14\n",
      "The life of Brian 17\n",
      "The Meaning of Life 19\n",
      "Terminator 10\n",
      "Pulp Fiction 12\n"
     ]
    }
   ],
   "source": [
    "for movie in movies:\n",
    "    print(movie, len(movie))"
   ]
  },
  {
   "cell_type": "code",
   "execution_count": 21,
   "metadata": {},
   "outputs": [
    {
     "name": "stdout",
     "output_type": "stream",
     "text": [
      "0-The Holi Grail\n",
      "1-The life of Brian\n",
      "2-The Meaning of Life\n",
      "3-Terminator\n",
      "4-Pulp Fiction\n"
     ]
    }
   ],
   "source": [
    "# For Loop with counter\n",
    "for i, name in enumerate(movies):\n",
    "    print(f\"{i}-{name}\")"
   ]
  },
  {
   "cell_type": "code",
   "execution_count": 25,
   "metadata": {},
   "outputs": [
    {
     "name": "stdout",
     "output_type": "stream",
     "text": [
      "[(0, 'apple'), (1, 'banana'), (2, 'cherry')]\n"
     ]
    }
   ],
   "source": [
    "x = ('apple', 'banana','cherry')\n",
    "y = enumerate(x)\n",
    "print(list(y))"
   ]
  },
  {
   "cell_type": "code",
   "execution_count": 26,
   "metadata": {},
   "outputs": [
    {
     "name": "stdout",
     "output_type": "stream",
     "text": [
      "You got point 0\n",
      "You got point 1\n",
      "You got point 2\n",
      "You got point 3\n",
      "You got point 4\n",
      "You got point 5\n"
     ]
    }
   ],
   "source": [
    "for i in range (6):\n",
    "    print('You got point', i)"
   ]
  },
  {
   "cell_type": "code",
   "execution_count": 29,
   "metadata": {},
   "outputs": [
    {
     "name": "stdout",
     "output_type": "stream",
     "text": [
      "level 1\n",
      "level 4\n",
      "level 7\n"
     ]
    }
   ],
   "source": [
    "for num in range(1,10,3):\n",
    "    print('level', num)"
   ]
  },
  {
   "cell_type": "code",
   "execution_count": 30,
   "metadata": {},
   "outputs": [
    {
     "name": "stdout",
     "output_type": "stream",
     "text": [
      "sheep 2\n",
      "sheep 3\n",
      "sheep 4\n",
      "sheep 5\n",
      "sheep 6\n",
      "sheep 7\n",
      "sheep 8\n",
      "sheep 9\n",
      "sheep 10\n"
     ]
    }
   ],
   "source": [
    "for num in range(2,11):\n",
    "    print('sheep', num)"
   ]
  },
  {
   "cell_type": "code",
   "execution_count": 34,
   "metadata": {},
   "outputs": [
    {
     "name": "stdout",
     "output_type": "stream",
     "text": [
      "level 2\n",
      "level 10\n",
      "level 18\n",
      "level 26\n",
      "level 34\n",
      "level 42\n"
     ]
    }
   ],
   "source": [
    "for num in range(2,44,8):\n",
    "    print(\"level\",num)"
   ]
  },
  {
   "cell_type": "code",
   "execution_count": 35,
   "metadata": {},
   "outputs": [
    {
     "name": "stdout",
     "output_type": "stream",
     "text": [
      "10\n",
      "9\n",
      "8\n",
      "7\n",
      "6\n"
     ]
    }
   ],
   "source": [
    "# Reerse Loop\n",
    "for num in range(10,5,-1):\n",
    "    print(num)"
   ]
  },
  {
   "cell_type": "code",
   "execution_count": 36,
   "metadata": {},
   "outputs": [
    {
     "name": "stdout",
     "output_type": "stream",
     "text": [
      "\n",
      "Na\n",
      "NaNa\n",
      "NaNaNa\n",
      "NaNaNaNa\n",
      "NaNaNaNaNa\n",
      "NaNaNaNaNaNa\n",
      "NaNaNaNaNaNaNa\n",
      "NaNaNaNaNaNaNaNa\n",
      "NaNaNaNaNaNaNaNaNa\n"
     ]
    }
   ],
   "source": [
    "# Pattern loop\n",
    "for i in range(10):\n",
    "    print(i*'Na')"
   ]
  },
  {
   "cell_type": "code",
   "execution_count": 37,
   "metadata": {},
   "outputs": [
    {
     "name": "stdout",
     "output_type": "stream",
     "text": [
      "\n",
      "Subhadra\n",
      "SubhadraSubhadra\n",
      "SubhadraSubhadraSubhadra\n",
      "SubhadraSubhadraSubhadraSubhadra\n"
     ]
    }
   ],
   "source": [
    "for i in range(5):\n",
    "    print(i*'Subhadra')"
   ]
  },
  {
   "cell_type": "markdown",
   "metadata": {},
   "source": [
    "## Ques 1 -> Write to print if number are even or odd 1, 100\n",
    "## Ques 2 -> Write to print the sum of all even numbers from 2 to 101\n",
    "## Ques 3 -> Write to print the average of all odd number from 1 to 100"
   ]
  },
  {
   "cell_type": "code",
   "execution_count": 60,
   "metadata": {},
   "outputs": [
    {
     "name": "stdout",
     "output_type": "stream",
     "text": [
      "Number is odd\n"
     ]
    }
   ],
   "source": [
    "# Ques 1 \n",
    "num = int(input(\"Enter the Number\"))\n",
    "if (num%2==0):\n",
    "    print(\"Number is even \")\n",
    "else:\n",
    "    print(\"Number is odd\")\n",
    "    "
   ]
  },
  {
   "cell_type": "code",
   "execution_count": 38,
   "metadata": {},
   "outputs": [
    {
     "name": "stdout",
     "output_type": "stream",
     "text": [
      "odd 1\n",
      "even 2\n",
      "odd 3\n",
      "even 4\n",
      "odd 5\n",
      "even 6\n",
      "odd 7\n",
      "even 8\n",
      "odd 9\n",
      "even 10\n",
      "odd 11\n",
      "even 12\n",
      "odd 13\n",
      "even 14\n",
      "odd 15\n",
      "even 16\n",
      "odd 17\n",
      "even 18\n",
      "odd 19\n",
      "even 20\n",
      "odd 21\n",
      "even 22\n",
      "odd 23\n",
      "even 24\n",
      "odd 25\n",
      "even 26\n",
      "odd 27\n",
      "even 28\n",
      "odd 29\n",
      "even 30\n",
      "odd 31\n",
      "even 32\n",
      "odd 33\n",
      "even 34\n",
      "odd 35\n",
      "even 36\n",
      "odd 37\n",
      "even 38\n",
      "odd 39\n",
      "even 40\n",
      "odd 41\n",
      "even 42\n",
      "odd 43\n",
      "even 44\n",
      "odd 45\n",
      "even 46\n",
      "odd 47\n",
      "even 48\n",
      "odd 49\n",
      "even 50\n",
      "odd 51\n",
      "even 52\n",
      "odd 53\n",
      "even 54\n",
      "odd 55\n",
      "even 56\n",
      "odd 57\n",
      "even 58\n",
      "odd 59\n",
      "even 60\n",
      "odd 61\n",
      "even 62\n",
      "odd 63\n",
      "even 64\n",
      "odd 65\n",
      "even 66\n",
      "odd 67\n",
      "even 68\n",
      "odd 69\n",
      "even 70\n",
      "odd 71\n",
      "even 72\n",
      "odd 73\n",
      "even 74\n",
      "odd 75\n",
      "even 76\n",
      "odd 77\n",
      "even 78\n",
      "odd 79\n",
      "even 80\n",
      "odd 81\n",
      "even 82\n",
      "odd 83\n",
      "even 84\n",
      "odd 85\n",
      "even 86\n",
      "odd 87\n",
      "even 88\n",
      "odd 89\n",
      "even 90\n",
      "odd 91\n",
      "even 92\n",
      "odd 93\n",
      "even 94\n",
      "odd 95\n",
      "even 96\n",
      "odd 97\n",
      "even 98\n",
      "odd 99\n"
     ]
    }
   ],
   "source": [
    "# Ques 1 (2-Types)\n",
    "for i in range(1,100):\n",
    "    if (i%2==0):\n",
    "        print(\"even\", i)\n",
    "    else:\n",
    "        print(\"odd\", i)"
   ]
  },
  {
   "cell_type": "code",
   "execution_count": 39,
   "metadata": {},
   "outputs": [
    {
     "name": "stdout",
     "output_type": "stream",
     "text": [
      "Total of all even no => 2550\n"
     ]
    }
   ],
   "source": [
    "# Ques 2 (Simple Version)\n",
    "total = 0\n",
    "for i in range (2,101):\n",
    "    if i % 2 == 0:\n",
    "        total += i\n",
    "print(\"Total of all even no =>\", total)"
   ]
  },
  {
   "cell_type": "code",
   "execution_count": 73,
   "metadata": {},
   "outputs": [
    {
     "name": "stdout",
     "output_type": "stream",
     "text": [
      "49.5\n",
      "Total number of a is -> 2500\n",
      "Average of all odd numbers => 50.505050505050505\n"
     ]
    }
   ],
   "source": [
    "# Ques 3 -> Write to print the average of all odd number from 1 to 100\n",
    "a=0\n",
    "for i in range(1,100):\n",
    "    if i % 2 == 1:\n",
    "        a += i\n",
    "b = i/2\n",
    "print(b)\n",
    "print(\"Total number of a is ->\", a)\n",
    "print(\"Average of all odd numbers =>\", a/b)"
   ]
  },
  {
   "cell_type": "code",
   "execution_count": 96,
   "metadata": {},
   "outputs": [
    {
     "name": "stdout",
     "output_type": "stream",
     "text": [
      "8\n"
     ]
    }
   ],
   "source": [
    "import statistics\n",
    "print(statistics.mean([1,3,5,7,9,11,13,15]))"
   ]
  },
  {
   "cell_type": "code",
   "execution_count": 98,
   "metadata": {},
   "outputs": [
    {
     "name": "stdout",
     "output_type": "stream",
     "text": [
      "1,2,3,4,5\n",
      "2,4,6,8,10\n",
      "3,6,9,12,15\n",
      "4,8,12,16,20\n",
      "5,10,15,20,25\n"
     ]
    }
   ],
   "source": [
    "# Native implementation\n",
    "print(1,2,3,4,5,sep=\",\")\n",
    "print(2,4,6,8,10,sep=\",\")\n",
    "print(3,6,9,12,15,sep=\",\")\n",
    "print(4,8,12,16,20,sep=\",\")\n",
    "print(5,10,15,20,25,sep=\",\")"
   ]
  },
  {
   "cell_type": "code",
   "execution_count": 99,
   "metadata": {},
   "outputs": [
    {
     "name": "stdout",
     "output_type": "stream",
     "text": [
      "1,2,3,4,5\n",
      "2,4,6,8,10\n",
      "3,6,9,12,15\n",
      "4,8,12,16,20\n",
      "5,10,15,20,25\n"
     ]
    }
   ],
   "source": [
    "# better implement -> dynamic row\n",
    "for i in range(1,6):\n",
    "    print(1*i, 2*i, 3*i, 4*i, 5*i, sep=',')"
   ]
  },
  {
   "cell_type": "code",
   "execution_count": 32,
   "metadata": {},
   "outputs": [
    {
     "name": "stdout",
     "output_type": "stream",
     "text": [
      "1,2,3,4,5,\n",
      "2,4,6,8,10,\n",
      "3,6,9,12,15,\n",
      "4,8,12,16,20,\n",
      "5,10,15,20,25,\n"
     ]
    }
   ],
   "source": [
    "# best implement -> dynamic rows and cols\n",
    "for row in range(1,6):\n",
    "    for col in range(1,6):\n",
    "        print(row * col, end=',')\n",
    "    print()"
   ]
  },
  {
   "cell_type": "markdown",
   "metadata": {},
   "source": [
    "# While Loop"
   ]
  },
  {
   "cell_type": "code",
   "execution_count": 33,
   "metadata": {},
   "outputs": [
    {
     "name": "stdout",
     "output_type": "stream",
     "text": [
      "run\n",
      "run\n",
      "run\n",
      "run\n",
      "stop\n"
     ]
    }
   ],
   "source": [
    "x = 1\n",
    "while x < 5:\n",
    "    print(\"run\")\n",
    "    x += 1\n",
    "print(\"stop\")"
   ]
  },
  {
   "cell_type": "code",
   "execution_count": 34,
   "metadata": {},
   "outputs": [
    {
     "name": "stdout",
     "output_type": "stream",
     "text": [
      "The sum is 55\n"
     ]
    }
   ],
   "source": [
    "# A complex program\n",
    "n = 10\n",
    "\n",
    "# initialize sum and counter\n",
    "sum = 0\n",
    "i = 1\n",
    "\n",
    "while i <= n:\n",
    "    sum = sum + i\n",
    "    i = i+1   #update counter\n",
    "\n",
    "# Print the sum\n",
    "print(\"The sum is\", sum)"
   ]
  },
  {
   "cell_type": "code",
   "execution_count": 3,
   "metadata": {},
   "outputs": [
    {
     "name": "stdout",
     "output_type": "stream",
     "text": [
      "total chars in poem is 8\n"
     ]
    }
   ],
   "source": [
    "poem =\"\"\n",
    "while input('Do you want to write another kine?') =='y':\n",
    "    line = input('>>>')\n",
    "    poem +=line\n",
    "chars = len(poem)\n",
    "print(f\"total chars in poem is {chars}\")"
   ]
  },
  {
   "cell_type": "code",
   "execution_count": 4,
   "metadata": {},
   "outputs": [
    {
     "name": "stdout",
     "output_type": "stream",
     "text": [
      "chjdjfhj\n"
     ]
    }
   ],
   "source": [
    "print(poem)"
   ]
  },
  {
   "cell_type": "markdown",
   "metadata": {},
   "source": [
    "## Break and Countinue Keyword\n"
   ]
  },
  {
   "cell_type": "code",
   "execution_count": 13,
   "metadata": {},
   "outputs": [
    {
     "name": "stdout",
     "output_type": "stream",
     "text": [
      "45\n"
     ]
    }
   ],
   "source": [
    "# Continue\n",
    "x = [1,2,'',3,4,5,'',6,7,'',8,9,10]\n",
    "total = 0\n",
    "for i in x:\n",
    "    if isinstance(i,str):\n",
    "        continue\n",
    "    if i in[1,2,3,4]:\n",
    "        continue\n",
    "    total += i\n",
    "print(total)"
   ]
  },
  {
   "cell_type": "code",
   "execution_count": 2,
   "metadata": {},
   "outputs": [
    {
     "name": "stdout",
     "output_type": "stream",
     "text": [
      "45\n"
     ]
    }
   ],
   "source": [
    "# Continue\n",
    "x = [1,2,'',3,4,5,'',6,7,'',8,9,10]\n",
    "total = 0\n",
    "for i in x:\n",
    "    if i in [1,2,3,4]:\n",
    "        continue\n",
    "    if isinstance(i,int):\n",
    "        total +=i\n",
    "print(total)"
   ]
  },
  {
   "cell_type": "code",
   "execution_count": 3,
   "metadata": {},
   "outputs": [
    {
     "name": "stdout",
     "output_type": "stream",
     "text": [
      "total chars 11\n",
      "jvghh\n",
      "hg\n",
      "h\n",
      "\n"
     ]
    }
   ],
   "source": [
    "# Break\n",
    "poem =''\n",
    "while True: #infinite\n",
    "    line = input(\"entr poem line>>\")\n",
    "    if line:\n",
    "        poem += line +'\\n'\n",
    "    else:\n",
    "        break\n",
    "\n",
    "print(\"total chars\", len(poem))\n",
    "print(poem)"
   ]
  }
 ],
 "metadata": {
  "interpreter": {
   "hash": "8eeacb674f5bbd40a760011ec84bc373e17163a2472ef87b5d27755525a49110"
  },
  "kernelspec": {
   "display_name": "Python 3.9.5 ('base')",
   "language": "python",
   "name": "python3"
  },
  "language_info": {
   "codemirror_mode": {
    "name": "ipython",
    "version": 3
   },
   "file_extension": ".py",
   "mimetype": "text/x-python",
   "name": "python",
   "nbconvert_exporter": "python",
   "pygments_lexer": "ipython3",
   "version": "3.9.5"
  },
  "orig_nbformat": 4
 },
 "nbformat": 4,
 "nbformat_minor": 2
}
