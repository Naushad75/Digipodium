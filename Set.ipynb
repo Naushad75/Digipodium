{
 "cells": [
  {
   "cell_type": "markdown",
   "metadata": {},
   "source": [
    "- Set\n",
    "    - set is mutable\n",
    "    - set is heterogenus\n",
    "    - set can have unique value\n",
    "    - set is unidexed and unordered\n",
    "    - set uses { } brackets with values inside ot seperated with commas\n",
    "    - to create empty we have to use\n",
    "    - set can only store immutable datatype value (number, string, tuples, etc)\n",
    "\n",
    "- What its learn    \n",
    "    - creating a set\n",
    "    - traversal (looping)\n",
    "    - function\n",
    "    - conversion between list/tuple/set"
   ]
  },
  {
   "cell_type": "code",
   "execution_count": 1,
   "metadata": {},
   "outputs": [
    {
     "name": "stdout",
     "output_type": "stream",
     "text": [
      "set() {1, 2, 3, 4} {1, 2, 3, 4}\n"
     ]
    }
   ],
   "source": [
    "a = set() #empty\n",
    "b = {1,2,3,4}\n",
    "c = set([1,2,3,4])\n",
    "print(a,b,c)"
   ]
  },
  {
   "cell_type": "code",
   "execution_count": 2,
   "metadata": {},
   "outputs": [
    {
     "data": {
      "text/plain": [
       "{1}"
      ]
     },
     "execution_count": 2,
     "metadata": {},
     "output_type": "execute_result"
    }
   ],
   "source": [
    "a.add(1)\n",
    "a"
   ]
  },
  {
   "cell_type": "code",
   "execution_count": 4,
   "metadata": {},
   "outputs": [
    {
     "name": "stdout",
     "output_type": "stream",
     "text": [
      "{3, 1, 2, 11}\n"
     ]
    }
   ],
   "source": [
    "d = {1,2,3,3,3,1,1,2,2,2,11,2,2,2,2,1}\n",
    "print(d)"
   ]
  },
  {
   "cell_type": "code",
   "execution_count": 5,
   "metadata": {},
   "outputs": [
    {
     "name": "stdout",
     "output_type": "stream",
     "text": [
      "{3, 1, 11}\n"
     ]
    }
   ],
   "source": [
    "d.remove(2)\n",
    "print(d)"
   ]
  },
  {
   "cell_type": "code",
   "execution_count": 6,
   "metadata": {},
   "outputs": [
    {
     "name": "stdout",
     "output_type": "stream",
     "text": [
      "{'1112', '111', '11221'}\n"
     ]
    }
   ],
   "source": [
    "x = set()\n",
    "for i in range(5):\n",
    "    val = input(\"Enter a value\")\n",
    "    x.add(val)\n",
    "print(x)"
   ]
  },
  {
   "cell_type": "code",
   "execution_count": 7,
   "metadata": {},
   "outputs": [
    {
     "name": "stdout",
     "output_type": "stream",
     "text": [
      "1\n",
      "2\n",
      "3\n",
      "4\n"
     ]
    }
   ],
   "source": [
    "for i in b:\n",
    "    print(i)"
   ]
  },
  {
   "cell_type": "code",
   "execution_count": 11,
   "metadata": {},
   "outputs": [
    {
     "name": "stdout",
     "output_type": "stream",
     "text": [
      "1112 111 11221 "
     ]
    }
   ],
   "source": [
    "for name in x:\n",
    "    print(name,end=\" \")"
   ]
  },
  {
   "cell_type": "code",
   "execution_count": 12,
   "metadata": {},
   "outputs": [
    {
     "data": {
      "text/plain": [
       "{'111', '1112', '11221', 'abihaq', 'ali', 'saif'}"
      ]
     },
     "execution_count": 12,
     "metadata": {},
     "output_type": "execute_result"
    }
   ],
   "source": [
    "x.update(['ali','saif','abihaq'])\n",
    "x"
   ]
  },
  {
   "cell_type": "markdown",
   "metadata": {},
   "source": [
    "### Function\n",
    "- adding Value\n",
    "    - add()\n",
    "    - update()\n",
    "- removing values\n",
    "    - remove()\n",
    "    - discard()\n",
    "    - pop()\n",
    "    - clear()\n",
    "- set operations\n",
    "    - union()\n",
    "    - intersection()\n",
    "    - difference()\n",
    "    - symmetric_difference()\n",
    "    - is_superset()\n",
    "    - is_sebset()\n",
    "    - is_disjoint()\n"
   ]
  },
  {
   "cell_type": "code",
   "execution_count": 20,
   "metadata": {},
   "outputs": [],
   "source": [
    "sa = {1,2,3,4,5}\n",
    "sb = {2,7,8,8,9,5}"
   ]
  },
  {
   "cell_type": "code",
   "execution_count": 21,
   "metadata": {},
   "outputs": [
    {
     "name": "stdout",
     "output_type": "stream",
     "text": [
      "{1, 2, 3, 4, 5, 7, 8, 9}\n",
      "{1, 2, 3, 4, 5, 7, 8, 9}\n"
     ]
    }
   ],
   "source": [
    "print(sb.union(sa))\n",
    "print(sa | sb)    # pipe operator is intersection"
   ]
  },
  {
   "cell_type": "code",
   "execution_count": 22,
   "metadata": {},
   "outputs": [
    {
     "name": "stdout",
     "output_type": "stream",
     "text": [
      "{2, 5}\n",
      "{2, 5}\n"
     ]
    }
   ],
   "source": [
    "print(sb.intersection(sa))\n",
    "print(sa & sb)   # & operator is intersection"
   ]
  },
  {
   "cell_type": "code",
   "execution_count": 13,
   "metadata": {},
   "outputs": [
    {
     "ename": "NameError",
     "evalue": "name 'sb' is not defined",
     "output_type": "error",
     "traceback": [
      "\u001b[1;31m---------------------------------------------------------------------------\u001b[0m",
      "\u001b[1;31mNameError\u001b[0m                                 Traceback (most recent call last)",
      "\u001b[1;32mc:\\Users\\Dell\\Dropbox\\My PC (DESKTOP-P7SUVV3)\\Documents\\Digipodium\\.vscode\\Set.ipynb Cell 14'\u001b[0m in \u001b[0;36m<module>\u001b[1;34m\u001b[0m\n\u001b[1;32m----> <a href='vscode-notebook-cell:/c%3A/Users/Dell/Dropbox/My%20PC%20%28DESKTOP-P7SUVV3%29/Documents/Digipodium/.vscode/Set.ipynb#ch0000013?line=0'>1</a>\u001b[0m \u001b[39mprint\u001b[39m(sb\u001b[39m.\u001b[39mintersection(sa))\n\u001b[0;32m      <a href='vscode-notebook-cell:/c%3A/Users/Dell/Dropbox/My%20PC%20%28DESKTOP-P7SUVV3%29/Documents/Digipodium/.vscode/Set.ipynb#ch0000013?line=1'>2</a>\u001b[0m \u001b[39mprint\u001b[39m(sa \u001b[39m-\u001b[39m sb)\n",
      "\u001b[1;31mNameError\u001b[0m: name 'sb' is not defined"
     ]
    }
   ],
   "source": [
    "print(sb.intersection(sa))\n",
    "print(sa - sb)   # - operator is diggerence"
   ]
  },
  {
   "cell_type": "code",
   "execution_count": null,
   "metadata": {},
   "outputs": [],
   "source": []
  }
 ],
 "metadata": {
  "interpreter": {
   "hash": "8eeacb674f5bbd40a760011ec84bc373e17163a2472ef87b5d27755525a49110"
  },
  "kernelspec": {
   "display_name": "Python 3.9.5 ('base')",
   "language": "python",
   "name": "python3"
  },
  "language_info": {
   "codemirror_mode": {
    "name": "ipython",
    "version": 3
   },
   "file_extension": ".py",
   "mimetype": "text/x-python",
   "name": "python",
   "nbconvert_exporter": "python",
   "pygments_lexer": "ipython3",
   "version": "3.9.5"
  },
  "orig_nbformat": 4
 },
 "nbformat": 4,
 "nbformat_minor": 2
}
